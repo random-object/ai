{
  "nbformat": 4,
  "nbformat_minor": 5,
  "metadata": {
    "kernelspec": {
      "display_name": "Python 3",
      "language": "python",
      "name": "python3"
    },
    "language_info": {
      "codemirror_mode": {
        "name": "ipython",
        "version": 3
      },
      "file_extension": ".py",
      "mimetype": "text/x-python",
      "name": "python",
      "nbconvert_exporter": "python",
      "pygments_lexer": "ipython3",
      "version": "3.8.10"
    },
    "colab": {
      "name": "Copy of py_devops_notes.ipynb",
      "provenance": [],
      "collapsed_sections": [],
      "include_colab_link": true
    }
  },
  "cells": [
    {
      "cell_type": "markdown",
      "metadata": {
        "id": "view-in-github",
        "colab_type": "text"
      },
      "source": [
        "<a href=\"https://colab.research.google.com/github/random-object/ai/blob/main/Copy_of_py_devops_notes.ipynb\" target=\"_parent\"><img src=\"https://colab.research.google.com/assets/colab-badge.svg\" alt=\"Open In Colab\"/></a>"
      ]
    },
    {
      "cell_type": "markdown",
      "metadata": {
        "id": "5b6bbf70"
      },
      "source": [
        "# Python for DevOps\n"
      ],
      "id": "5b6bbf70"
    },
    {
      "cell_type": "markdown",
      "metadata": {
        "id": "2ae812d9"
      },
      "source": [
        "## <font color='orange'>Defined</font>"
      ],
      "id": "2ae812d9"
    },
    {
      "cell_type": "markdown",
      "metadata": {
        "id": "b1862e62"
      },
      "source": [
        "The combination of software development with information technology."
      ],
      "id": "b1862e62"
    },
    {
      "cell_type": "markdown",
      "metadata": {
        "id": "6d6a38de"
      },
      "source": [
        "## <font color='orange'>Procedural Programming</font>"
      ],
      "id": "6d6a38de"
    },
    {
      "cell_type": "markdown",
      "metadata": {
        "id": "91ad27a2"
      },
      "source": [
        "The issuing of instructions to a computer in an ordered sequence."
      ],
      "id": "91ad27a2"
    },
    {
      "cell_type": "code",
      "metadata": {
        "id": "2701e645",
        "outputId": "baf43f94-a55b-4430-a346-7f9ddf20ac30"
      },
      "source": [
        "i = 3\n",
        "j = i + 1\n",
        "print(i + j)"
      ],
      "id": "2701e645",
      "execution_count": null,
      "outputs": [
        {
          "name": "stdout",
          "output_type": "stream",
          "text": [
            "7\n"
          ]
        }
      ]
    },
    {
      "cell_type": "markdown",
      "metadata": {
        "id": "578ef3fb"
      },
      "source": [
        " Notice that they are executed in order and rely on the the state created by the previous\n",
        " statements."
      ],
      "id": "578ef3fb"
    },
    {
      "cell_type": "markdown",
      "metadata": {
        "id": "e2165f7b"
      },
      "source": [
        "## <font color='orange'>variables</font>"
      ],
      "id": "e2165f7b"
    },
    {
      "cell_type": "markdown",
      "metadata": {
        "id": "68a1fc14"
      },
      "source": [
        "A variable is a name that points to some value.Variables in Python can be assigned to new values:"
      ],
      "id": "68a1fc14"
    },
    {
      "cell_type": "code",
      "metadata": {
        "id": "9bffa702",
        "outputId": "3b8b24a1-2131-4771-fa80-f03948f33ca6"
      },
      "source": [
        "dog_name = 'spot' #dog_name is the variable and 'spot' is the value\n",
        "dog_name"
      ],
      "id": "9bffa702",
      "execution_count": null,
      "outputs": [
        {
          "data": {
            "text/plain": [
              "'spot'"
            ]
          },
          "execution_count": 17,
          "metadata": {},
          "output_type": "execute_result"
        }
      ]
    },
    {
      "cell_type": "code",
      "metadata": {
        "id": "ac811edf",
        "outputId": "49feb2b3-83e4-4f66-c029-acd7460f82cb"
      },
      "source": [
        "dog_name = 'rex'\n",
        "dog_name  #assigning a new value to dog_name vairable"
      ],
      "id": "ac811edf",
      "execution_count": null,
      "outputs": [
        {
          "data": {
            "text/plain": [
              "'rex'"
            ]
          },
          "execution_count": 18,
          "metadata": {},
          "output_type": "execute_result"
        }
      ]
    },
    {
      "cell_type": "code",
      "metadata": {
        "id": "bf3f6958",
        "outputId": "af7cf6f8-ff86-400a-cf12-99e2da9c30ae"
      },
      "source": [
        "dog_name = 'rex'\n",
        "dog_name  #assigning a new value to dog_name vairable\n",
        "\n",
        "dog_name = 't-' + dog_name\n",
        "dog_name"
      ],
      "id": "bf3f6958",
      "execution_count": null,
      "outputs": [
        {
          "data": {
            "text/plain": [
              "'t-rex'"
            ]
          },
          "execution_count": 19,
          "metadata": {},
          "output_type": "execute_result"
        }
      ]
    },
    {
      "cell_type": "markdown",
      "metadata": {
        "id": "c09fdf28"
      },
      "source": [
        "Python vaariables use dynamic typing. In practice, this means that they can be\n",
        "reassigned to values of different types or classes:"
      ],
      "id": "c09fdf28"
    },
    {
      "cell_type": "code",
      "metadata": {
        "id": "c4a8c53c",
        "outputId": "cdeb944a-d2e7-453c-c402-e8c5225b911c"
      },
      "source": [
        "big = 'large'\n",
        "print(big)\n",
        "\n",
        "big = 1000 * 1000\n",
        "print(big)\n",
        "\n",
        "big = {}\n",
        "print(big)"
      ],
      "id": "c4a8c53c",
      "execution_count": null,
      "outputs": [
        {
          "name": "stdout",
          "output_type": "stream",
          "text": [
            "large\n",
            "1000000\n",
            "{}\n"
          ]
        }
      ]
    },
    {
      "cell_type": "markdown",
      "metadata": {
        "id": "c5dd8447"
      },
      "source": [
        "In the example above the variable 'big' is set to a [string], then a [[number]], ans finally a [[dictionary]]"
      ],
      "id": "c5dd8447"
    },
    {
      "cell_type": "markdown",
      "metadata": {
        "id": "6e016288"
      },
      "source": [
        "## <font color='orange'>Basic Math</font>"
      ],
      "id": "6e016288"
    },
    {
      "cell_type": "code",
      "metadata": {
        "id": "7442ad67",
        "outputId": "39341731-6f4a-4e84-b11e-ddf03054fefc"
      },
      "source": [
        "1 + 1"
      ],
      "id": "7442ad67",
      "execution_count": null,
      "outputs": [
        {
          "data": {
            "text/plain": [
              "2"
            ]
          },
          "execution_count": 3,
          "metadata": {},
          "output_type": "execute_result"
        }
      ]
    },
    {
      "cell_type": "code",
      "metadata": {
        "id": "666235f1",
        "outputId": "9269d706-2abf-43c5-b561-7d9bb69d8a4b"
      },
      "source": [
        "3 - 4"
      ],
      "id": "666235f1",
      "execution_count": null,
      "outputs": [
        {
          "data": {
            "text/plain": [
              "-1"
            ]
          },
          "execution_count": 2,
          "metadata": {},
          "output_type": "execute_result"
        }
      ]
    },
    {
      "cell_type": "code",
      "metadata": {
        "id": "cd8b709b",
        "outputId": "87e60fb5-d465-44cb-aec0-c356401b531a"
      },
      "source": [
        "2*5"
      ],
      "id": "cd8b709b",
      "execution_count": null,
      "outputs": [
        {
          "data": {
            "text/plain": [
              "10"
            ]
          },
          "execution_count": 4,
          "metadata": {},
          "output_type": "execute_result"
        }
      ]
    },
    {
      "cell_type": "code",
      "metadata": {
        "id": "2347e43e",
        "outputId": "a8dcd0e5-154f-4bd6-fbb0-19dc642273ae"
      },
      "source": [
        "2/3"
      ],
      "id": "2347e43e",
      "execution_count": null,
      "outputs": [
        {
          "data": {
            "text/plain": [
              "0.6666666666666666"
            ]
          },
          "execution_count": 5,
          "metadata": {},
          "output_type": "execute_result"
        }
      ]
    },
    {
      "cell_type": "code",
      "metadata": {
        "id": "6e32b2c6",
        "outputId": "f287b256-f320-4a40-b69f-90c27936cb04"
      },
      "source": [
        "5/2"
      ],
      "id": "6e32b2c6",
      "execution_count": null,
      "outputs": [
        {
          "data": {
            "text/plain": [
              "2.5"
            ]
          },
          "execution_count": 6,
          "metadata": {},
          "output_type": "execute_result"
        }
      ]
    },
    {
      "cell_type": "code",
      "metadata": {
        "id": "d1a98a1d",
        "outputId": "69071ee0-daf3-454c-8863-ca895f9e8ad8"
      },
      "source": [
        "5//2"
      ],
      "id": "d1a98a1d",
      "execution_count": null,
      "outputs": [
        {
          "data": {
            "text/plain": [
              "2"
            ]
          },
          "execution_count": 7,
          "metadata": {},
          "output_type": "execute_result"
        }
      ]
    },
    {
      "cell_type": "code",
      "metadata": {
        "id": "e19671b9",
        "outputId": "d7d6e9ca-21b4-4c77-9961-21fcf5fc9381"
      },
      "source": [
        "3**2"
      ],
      "id": "e19671b9",
      "execution_count": null,
      "outputs": [
        {
          "data": {
            "text/plain": [
              "9"
            ]
          },
          "execution_count": 8,
          "metadata": {},
          "output_type": "execute_result"
        }
      ]
    },
    {
      "cell_type": "code",
      "metadata": {
        "id": "bbf2e633",
        "outputId": "b62051d0-72c0-40fb-c294-b5d1943b6791"
      },
      "source": [
        "5%2"
      ],
      "id": "bbf2e633",
      "execution_count": null,
      "outputs": [
        {
          "data": {
            "text/plain": [
              "1"
            ]
          },
          "execution_count": 9,
          "metadata": {},
          "output_type": "execute_result"
        }
      ]
    },
    {
      "cell_type": "markdown",
      "metadata": {
        "id": "48a06395"
      },
      "source": [
        "## <font color='orange'>Comments </font>"
      ],
      "id": "48a06395"
    },
    {
      "cell_type": "markdown",
      "metadata": {
        "id": "3ab6e900"
      },
      "source": [
        "Comments are text ignored by Python interpreter, you know how to use them."
      ],
      "id": "3ab6e900"
    },
    {
      "cell_type": "code",
      "metadata": {
        "id": "b38aa132",
        "outputId": "f51b8761-8ebe-4b1d-a0e4-67cf10bb1c14"
      },
      "source": [
        "# this is a comment.\n",
        "print(1 + 1)"
      ],
      "id": "b38aa132",
      "execution_count": null,
      "outputs": [
        {
          "name": "stdout",
          "output_type": "stream",
          "text": [
            "2\n"
          ]
        }
      ]
    },
    {
      "cell_type": "markdown",
      "metadata": {
        "id": "e2fc2f89"
      },
      "source": [
        "## <font color='orange'>Built-in Functions </font>"
      ],
      "id": "e2fc2f89"
    },
    {
      "cell_type": "markdown",
      "metadata": {
        "id": "687a25a1"
      },
      "source": [
        "Functions are statements grouped as a unit. TO invoke a function, your type the name followed by \n",
        "parentheses. If the function takes <font color='cyan'>arguments</font>, the arguments go in the (). "
      ],
      "id": "687a25a1"
    },
    {
      "cell_type": "markdown",
      "metadata": {
        "id": "6fcb2552"
      },
      "source": [
        " The <font color='cyan'>print()</font> function produces output that a user of a program can view."
      ],
      "id": "6fcb2552"
    },
    {
      "cell_type": "code",
      "metadata": {
        "id": "fd14a4c9",
        "outputId": "e9a5d97f-e37b-47ce-f842-1b2c23a869a0"
      },
      "source": [
        "print()\n",
        "print(\"I love Mina Jean Osbeck\")"
      ],
      "id": "fd14a4c9",
      "execution_count": null,
      "outputs": [
        {
          "name": "stdout",
          "output_type": "stream",
          "text": [
            "\n",
            "I love Mina Jean Osbeck\n"
          ]
        }
      ]
    },
    {
      "cell_type": "markdown",
      "metadata": {
        "id": "b4688410"
      },
      "source": [
        "The <font color='cyan'>range()</font> function is technically not a function but \n",
        "a type representing a sequence of numbers. When we call the rannge() constructor,\n",
        "an object representing a sequence of numerals is returned."
      ],
      "id": "b4688410"
    },
    {
      "cell_type": "code",
      "metadata": {
        "id": "1fb877c7",
        "outputId": "a5526d26-b788-4e22-8889-e9e1275f0f91"
      },
      "source": [
        "range(14)\n"
      ],
      "id": "1fb877c7",
      "execution_count": null,
      "outputs": [
        {
          "data": {
            "text/plain": [
              "range(0, 14)"
            ]
          },
          "execution_count": 25,
          "metadata": {},
          "output_type": "execute_result"
        }
      ]
    },
    {
      "cell_type": "code",
      "metadata": {
        "id": "4266e96d",
        "outputId": "ebad1491-149f-4101-c23f-b1c0e04a1d0e"
      },
      "source": [
        "list(range(14))"
      ],
      "id": "4266e96d",
      "execution_count": null,
      "outputs": [
        {
          "data": {
            "text/plain": [
              "[0, 1, 2, 3, 4, 5, 6, 7, 8, 9, 10, 11, 12, 13]"
            ]
          },
          "execution_count": 26,
          "metadata": {},
          "output_type": "execute_result"
        }
      ]
    },
    {
      "cell_type": "code",
      "metadata": {
        "id": "09a35940",
        "outputId": "d155c179-2c9d-488f-bec6-4ea00157bdb3"
      },
      "source": [
        "list(range(7, 14))"
      ],
      "id": "09a35940",
      "execution_count": null,
      "outputs": [
        {
          "data": {
            "text/plain": [
              "[7, 8, 9, 10, 11, 12, 13]"
            ]
          },
          "execution_count": 27,
          "metadata": {},
          "output_type": "execute_result"
        }
      ]
    },
    {
      "cell_type": "code",
      "metadata": {
        "id": "21ac8016",
        "outputId": "d321ff28-b119-4244-93c0-e7e8f4873aa8"
      },
      "source": [
        "list(range(2, 14, 3))"
      ],
      "id": "21ac8016",
      "execution_count": null,
      "outputs": [
        {
          "data": {
            "text/plain": [
              "[2, 5, 8, 11]"
            ]
          },
          "execution_count": 28,
          "metadata": {},
          "output_type": "execute_result"
        }
      ]
    },
    {
      "cell_type": "markdown",
      "metadata": {
        "id": "4a3cfad3"
      },
      "source": [
        "# <font color='lime'>Execution Control</font>"
      ],
      "id": "4a3cfad3"
    },
    {
      "cell_type": "markdown",
      "metadata": {
        "id": "2bbcc353"
      },
      "source": [
        "You can group statements you want to run together as a code block.\n",
        "You can run the blocks repeatedly with <font color='cyan'>for</font> and <font color='cyan'>while</font> loops.\n",
        "Also, they can be run under certain conditions using <font color='cyan'>if</font> statements, <font color='cyan'>while</font> loops, or <font color='cyan'>try-except</font> blocks. \n",
        "In Python, indentation & white-space is used to indicate a block."
      ],
      "id": "2bbcc353"
    },
    {
      "cell_type": "markdown",
      "metadata": {
        "id": "543295c4"
      },
      "source": [
        "## <font color='lime'>if/elif/else</font>"
      ],
      "id": "543295c4"
    },
    {
      "cell_type": "markdown",
      "metadata": {
        "id": "ed57f3da"
      },
      "source": [
        "These statements are common ways to branch between decisions in code. A block directly after \n",
        "an <font color='cyan'>if</font> statement runs if that staement evaluates to True:"
      ],
      "id": "ed57f3da"
    },
    {
      "cell_type": "code",
      "metadata": {
        "id": "19f527de",
        "outputId": "50703bc6-9c6c-434e-c89c-cb413c69b5c1"
      },
      "source": [
        "j = 23\n",
        "if j == 23:\n",
        "    print(\"j is 23\")\n",
        "    "
      ],
      "id": "19f527de",
      "execution_count": null,
      "outputs": [
        {
          "name": "stdout",
          "output_type": "stream",
          "text": [
            "j is 23\n"
          ]
        }
      ]
    },
    {
      "cell_type": "markdown",
      "metadata": {
        "id": "b348a4bc"
      },
      "source": [
        "We used == to return \"j is 23\" if True\" if j is equal to 23, otherwise we get no output. We can also use <font color='cyan'>elif</font>\n",
        "or <font color='cyan'>else</font> statements with an accompanying block. The elif statement in this block, only executes if it is True:"
      ],
      "id": "b348a4bc"
    },
    {
      "cell_type": "code",
      "metadata": {
        "id": "8cc67a26",
        "outputId": "bbdb7ece-3933-426a-ccde-a2d5023f3e6e"
      },
      "source": [
        "j = 41\n",
        "if j == 23:\n",
        "    print(\"j is 23\")\n",
        "elif j == 41:\n",
        "    print(\"j is 41\")\n"
      ],
      "id": "8cc67a26",
      "execution_count": null,
      "outputs": [
        {
          "name": "stdout",
          "output_type": "stream",
          "text": [
            "j is 41\n"
          ]
        }
      ]
    },
    {
      "cell_type": "markdown",
      "metadata": {
        "id": "84a25e9b"
      },
      "source": [
        "Mutiple <font color='cyan'>elif</font> loops can append together, the code chooses from multiple choices. Adding an <font color=\"cyan\">else</font> at the end runs a block if none of the previous if/elif conditions evaluate to \n",
        "True:"
      ],
      "id": "84a25e9b"
    },
    {
      "cell_type": "code",
      "metadata": {
        "id": "07ae07a5",
        "outputId": "97690995-8491-48c6-f23e-2c6dc2dcf585"
      },
      "source": [
        "r = 2\n",
        "if r == 123:\n",
        "    print(\"r is 123\")\n",
        "elif r < 456:\n",
        "    print(\"r is 456\")\n",
        "elif r == 678:\n",
        "    print(\"r is 678\")\n",
        "elif r%3 == 0:\n",
        "    print(\"r is a mutiple of 3\")\n",
        "else:\n",
        "    print(\"r perplexes me greatly!\")"
      ],
      "id": "07ae07a5",
      "execution_count": null,
      "outputs": [
        {
          "name": "stdout",
          "output_type": "stream",
          "text": [
            "r is 456\n"
          ]
        }
      ]
    },
    {
      "cell_type": "markdown",
      "metadata": {
        "id": "4ec4be2b"
      },
      "source": [
        "We can nest <font color='cyan'>if</font> statements, creating blocks of code\n",
        " that will only exexute if the proeceeding outer <font color='cyan'>if</font> statement is True:"
      ],
      "id": "4ec4be2b"
    },
    {
      "cell_type": "code",
      "metadata": {
        "id": "e802f772",
        "outputId": "5908777d-e8f6-4315-f8e1-1fea2776e11f"
      },
      "source": [
        "cat = 'puff'\n",
        "if 'p' in cat:\n",
        "    print(\"We found a p in cats name.\")\n",
        "    if cat == 'puff':\n",
        "        print(\"I found Puff the cat.\")\n",
        "    else:\n",
        "        print(\"It is some other cat.\")\n",
        "else:\n",
        "    print(\"This cat has no letter 'p' in it's name!\")\n",
        "    "
      ],
      "id": "e802f772",
      "execution_count": null,
      "outputs": [
        {
          "name": "stdout",
          "output_type": "stream",
          "text": [
            "We found a p in cats name.\n",
            "I found Puff the cat.\n"
          ]
        }
      ]
    },
    {
      "cell_type": "markdown",
      "metadata": {
        "id": "5f7a0847"
      },
      "source": [
        "## <font color='lime'>for Loops</font>"
      ],
      "id": "5f7a0847"
    },
    {
      "cell_type": "markdown",
      "metadata": {
        "id": "47bbdefb"
      },
      "source": [
        "<font color='cyan'>for</font> loops allow us to repeat a code block one for each memeber of\n",
        "a sequence. On a side note, <font color='cyan'>for</font> loops can iterate through any Python sequence type. One of the most common uses of loops is to iterate through a <font color='cyan'>range()</font> object to \n",
        "do a task a set number of times:"
      ],
      "id": "47bbdefb"
    },
    {
      "cell_type": "code",
      "metadata": {
        "id": "8d54aa12",
        "outputId": "b31f37b6-8815-4589-fbf1-02b0b64ab5be"
      },
      "source": [
        "for r in range(5):\n",
        "    t = r*2\n",
        "    print(t)"
      ],
      "id": "8d54aa12",
      "execution_count": null,
      "outputs": [
        {
          "name": "stdout",
          "output_type": "stream",
          "text": [
            "0\n",
            "2\n",
            "4\n",
            "6\n",
            "8\n"
          ]
        }
      ]
    },
    {
      "cell_type": "markdown",
      "metadata": {
        "id": "077bba02"
      },
      "source": [
        "## <font color='lime'>while Loops</font> "
      ],
      "id": "077bba02"
    },
    {
      "cell_type": "markdown",
      "metadata": {
        "id": "bc12d867"
      },
      "source": [
        "<font color='cyan'>while</font> loops repeat as long as a condition evaluates to <font color='cyan'>True</font>. It is vital \n",
        "to define a way for our loop to end. Otherwise we will be stuck in a infinite loop till the program crashes.\n"
      ],
      "id": "bc12d867"
    },
    {
      "cell_type": "code",
      "metadata": {
        "id": "0c57c0bf",
        "outputId": "c84bb6dc-1872-4a32-d798-5ca9c9993f75"
      },
      "source": [
        "count = 0\n",
        "while count < 3:\n",
        "    print(f\"The count is {count}\")\n",
        "    count += 1"
      ],
      "id": "0c57c0bf",
      "execution_count": null,
      "outputs": [
        {
          "name": "stdout",
          "output_type": "stream",
          "text": [
            "The count is 0\n",
            "The count is 1\n",
            "The count is 2\n"
          ]
        }
      ]
    },
    {
      "cell_type": "markdown",
      "metadata": {
        "id": "59d7a6d7"
      },
      "source": [
        "One way to handle an infinite loop is to define the conditional statement so it will eventually evaluate to <font color='cyan'>False</font>. An alternative pattern\n",
        "uses <font color='cyan'>break</font> statement to exit a loop using a nested conditional:"
      ],
      "id": "59d7a6d7"
    },
    {
      "cell_type": "code",
      "metadata": {
        "id": "7010f920",
        "outputId": "b9c9c6d0-de16-4af4-a76a-54710d382c9f"
      },
      "source": [
        "count = 0\n",
        "while True:\n",
        "    print(f\"The count is {count}\")\n",
        "    if count > 5:\n",
        "        break\n",
        "    count += 1"
      ],
      "id": "7010f920",
      "execution_count": null,
      "outputs": [
        {
          "name": "stdout",
          "output_type": "stream",
          "text": [
            "The count is 0\n",
            "The count is 1\n",
            "The count is 2\n",
            "The count is 3\n",
            "The count is 4\n",
            "The count is 5\n",
            "The count is 6\n"
          ]
        }
      ]
    },
    {
      "cell_type": "markdown",
      "metadata": {
        "id": "004b5b0c"
      },
      "source": [
        "## <font color ='lime'>Handling Exceptions</font>"
      ],
      "id": "004b5b0c"
    },
    {
      "cell_type": "markdown",
      "metadata": {
        "id": "debe9ff3"
      },
      "source": [
        "Exceptions are a type of error causing your program to crash i not handled (caught).\n",
        "Catching them with a <font color='cyan'>try-except</font> block allows the program to continue. These blocks are created by indenting the block in which the exception might be raised,putting a <font color='cyan'>try</font> statement before it and an <font color='cyan'>except</font> statement after it, followd by a code block that should run when the error occurs:"
      ],
      "id": "debe9ff3"
    },
    {
      "cell_type": "code",
      "metadata": {
        "id": "e17c6aca",
        "outputId": "73b23c6a-6a6c-4b98-d06d-83c226387e44"
      },
      "source": [
        "thinkers = {'Plato', 'PlayDo', 'Gumby'}\n",
        "while True:\n",
        "    try:\n",
        "        thinker = thinkers.pop()\n",
        "        print(thinker)\n",
        "    except KeyError as e:\n",
        "        print(\"We tried to pop to many thinkers\")\n",
        "        print(e)\n",
        "        break"
      ],
      "id": "e17c6aca",
      "execution_count": null,
      "outputs": [
        {
          "name": "stdout",
          "output_type": "stream",
          "text": [
            "Gumby\n",
            "PlayDo\n",
            "Plato\n",
            "We tried to pop to many thinkers\n",
            "'pop from an empty set'\n"
          ]
        }
      ]
    },
    {
      "cell_type": "markdown",
      "metadata": {
        "id": "07260091"
      },
      "source": [
        "There are many built in exceptuions, so it only pays to catch them if you are confident \n",
        "that the problem won't be fatel to your software. Ideally you should catch the exact exception type (as in KeyError)."
      ],
      "id": "07260091"
    },
    {
      "cell_type": "markdown",
      "metadata": {
        "id": "d8bd9d14"
      },
      "source": [
        "# <font color ='yellow'>Built-in Objects</font>"
      ],
      "id": "d8bd9d14"
    },
    {
      "cell_type": "markdown",
      "metadata": {
        "id": "0da73289"
      },
      "source": [
        "## <font color ='yellow'>What Is an Object?</font>"
      ],
      "id": "0da73289"
    },
    {
      "cell_type": "markdown",
      "metadata": {
        "id": "e4b2d80c"
      },
      "source": [
        "In OOP (Object Oriented Programming), data or state and functionality appear together. It focuses on <font color ='cyan'>class instantiation</font> (creating objects from classes) and <font color ='cyan'>dot syntax</font> (the syntax for accessing an object's attributes\n",
        "and methods). A class defines attributes and methods shated by it's objects."
      ],
      "id": "e4b2d80c"
    },
    {
      "cell_type": "code",
      "metadata": {
        "id": "9d2a8040",
        "outputId": "cdc4a15a-8aca-4edd-8ce6-5ab71257180f"
      },
      "source": [
        "# Define a class for fancy defining fancy cars.\n",
        "class fancy_car():\n",
        "    pass\n",
        "\n",
        "type(fancy_car)\n",
        "# Instantiate a fancy car\n",
        "my_car = fancy_car()\n",
        "type(my_car)"
      ],
      "id": "9d2a8040",
      "execution_count": null,
      "outputs": [
        {
          "data": {
            "text/plain": [
              "__main__.fancy_car"
            ]
          },
          "execution_count": 8,
          "metadata": {},
          "output_type": "execute_result"
        }
      ]
    },
    {
      "cell_type": "markdown",
      "metadata": {
        "id": "a2bcfd05"
      },
      "source": [
        "Think of it as the technical drawing of a car model. The class\n",
        "can then ne instantiated to create an instance. The instance, or object, is\n",
        "a single car built based on those drawings."
      ],
      "id": "a2bcfd05"
    },
    {
      "cell_type": "markdown",
      "metadata": {
        "id": "0f395f20"
      },
      "source": [
        "## <font color ='yellow'>Object Methods and Attributes</font>"
      ],
      "id": "0f395f20"
    },
    {
      "cell_type": "markdown",
      "metadata": {
        "id": "dab0e0ab"
      },
      "source": [
        "In Python docs, functions attached to objects and classes are\n",
        "referred to as <font color ='cyan'>methods</font>"
      ],
      "id": "dab0e0ab"
    },
    {
      "cell_type": "markdown",
      "metadata": {
        "id": "348b9f76"
      },
      "source": [
        "Objects store data in attributes. Object functionality is defined in \n",
        "<font color ='cyan'>object methods</font> (methods defined for all objects\n",
        "in a class) and <font color ='cyan'>class methods</font> (methods attached\n",
        "to a class and shared by all objects in a class), which are functions\n",
        "attached to the object.\n"
      ],
      "id": "348b9f76"
    },
    {
      "cell_type": "markdown",
      "metadata": {
        "id": "476fb1c0"
      },
      "source": [
        "These functions have accesss to the object's attributes and \n",
        "can modify and use the object's data. To call an object's\n",
        "method or access one of it attributes, we use <font color ='cyan'>dot syntax</font>:"
      ],
      "id": "476fb1c0"
    },
    {
      "cell_type": "code",
      "metadata": {
        "id": "2deb8e1a",
        "outputId": "ae9a75fb-ec02-4fd6-dac3-1f2fab8b7eff"
      },
      "source": [
        "# Define a class for fancy defining fancy cars\n",
        "class fancy_car():\n",
        "    # Add a class variable\n",
        "    wheels = 4\n",
        "    # Add a method\n",
        "    def drive_fast(self):\n",
        "        print(\"Driving so fast\")\n",
        "# Instantiate a fancy car\n",
        "my_car = fancy_car()\n",
        "# Access the class attribute\n",
        "my_car.wheels\n"
      ],
      "id": "2deb8e1a",
      "execution_count": null,
      "outputs": [
        {
          "data": {
            "text/plain": [
              "4"
            ]
          },
          "execution_count": 13,
          "metadata": {},
          "output_type": "execute_result"
        }
      ]
    },
    {
      "cell_type": "code",
      "metadata": {
        "id": "f7d13132",
        "outputId": "d5dcb802-1f3b-4a1d-b7d7-d14cfc974598"
      },
      "source": [
        "# Invoke the method\n",
        "my_car.drive_fast()"
      ],
      "id": "f7d13132",
      "execution_count": null,
      "outputs": [
        {
          "name": "stdout",
          "output_type": "stream",
          "text": [
            "Driving so fast\n"
          ]
        }
      ]
    },
    {
      "cell_type": "markdown",
      "metadata": {
        "id": "1c1436aa"
      },
      "source": [
        "SO here our <font color= 'cyan'>fancy_car</font> class defines a method called\n",
        "<font color= 'cyan'>drive_fast</font> and an attribute <font color= 'cyan'>wheels</font>.\n",
        "When you instantiate an instance of <font color= 'cyan'>fancy_car</font> named \n",
        "<font color= 'cyan'>my_car</font>, you can access the attribute and invoke the method\n",
        "using the dot syntax."
      ],
      "id": "1c1436aa"
    },
    {
      "cell_type": "markdown",
      "metadata": {
        "id": "217bfcc9"
      },
      "source": [
        "# <font color= 'yellow'>Sequences</font>"
      ],
      "id": "217bfcc9"
    },
    {
      "cell_type": "markdown",
      "metadata": {
        "id": "0IaR3YFr97Th"
      },
      "source": [
        "Sequences are a family of built-in types, including the <font color= 'cyan'>list</font>, <font color= 'cyan'>tuple</font>, <font color= 'cyan'>range</font>, and <font color= 'cyan'>binary</font> types. They represent ordered and fininte collections of items.\n",
        "\n"
      ],
      "id": "0IaR3YFr97Th"
    },
    {
      "cell_type": "markdown",
      "metadata": {
        "id": "d5k_w0KoP5YF"
      },
      "source": [
        "## <font color+'yellow"
      ],
      "id": "d5k_w0KoP5YF"
    },
    {
      "cell_type": "markdown",
      "metadata": {
        "id": "TzKRxL2VQDxE"
      },
      "source": [
        "## <font color= 'yellow'>Sequence operations</font>"
      ],
      "id": "TzKRxL2VQDxE"
    },
    {
      "cell_type": "markdown",
      "metadata": {
        "id": "D-4o2_5VQO6u"
      },
      "source": [
        "You can use the <font color='cyan'>in</font> and <font color='cyan'>not in</font> operators to test whether or not an item exist in a sequence:"
      ],
      "id": "D-4o2_5VQO6u"
    },
    {
      "cell_type": "code",
      "metadata": {
        "colab": {
          "base_uri": "https://localhost:8080/"
        },
        "id": "zoAvZ4LEQuRK",
        "outputId": "7f1f7e96-6caf-4429-8e33-05690da1b89b"
      },
      "source": [
        "2 in [1, 2, 3]"
      ],
      "id": "zoAvZ4LEQuRK",
      "execution_count": null,
      "outputs": [
        {
          "output_type": "execute_result",
          "data": {
            "text/plain": [
              "True"
            ]
          },
          "metadata": {},
          "execution_count": 1
        }
      ]
    },
    {
      "cell_type": "code",
      "metadata": {
        "colab": {
          "base_uri": "https://localhost:8080/"
        },
        "id": "XIMesVzTQzG_",
        "outputId": "ea759689-7970-40f2-ef17-72a42780b14e"
      },
      "source": [
        "'a' not in 'cat'"
      ],
      "id": "XIMesVzTQzG_",
      "execution_count": null,
      "outputs": [
        {
          "output_type": "execute_result",
          "data": {
            "text/plain": [
              "False"
            ]
          },
          "metadata": {},
          "execution_count": 2
        }
      ]
    },
    {
      "cell_type": "code",
      "metadata": {
        "colab": {
          "base_uri": "https://localhost:8080/"
        },
        "id": "CzW2x4YNQ4e7",
        "outputId": "ea1a3d7b-aa88-46d7-ec2b-5dad9e6e3382"
      },
      "source": [
        "10 in range(12)"
      ],
      "id": "CzW2x4YNQ4e7",
      "execution_count": null,
      "outputs": [
        {
          "output_type": "execute_result",
          "data": {
            "text/plain": [
              "True"
            ]
          },
          "metadata": {},
          "execution_count": 3
        }
      ]
    },
    {
      "cell_type": "code",
      "metadata": {
        "colab": {
          "base_uri": "https://localhost:8080/"
        },
        "id": "5VuITJBRQ8Tg",
        "outputId": "f038c608-32d2-47b0-cfd0-d12db31e9152"
      },
      "source": [
        "10 not in range(2, 4)"
      ],
      "id": "5VuITJBRQ8Tg",
      "execution_count": null,
      "outputs": [
        {
          "output_type": "execute_result",
          "data": {
            "text/plain": [
              "True"
            ]
          },
          "metadata": {},
          "execution_count": 4
        }
      ]
    },
    {
      "cell_type": "markdown",
      "metadata": {
        "id": "fGsWsJvkRDaW"
      },
      "source": [
        "You can reference the contents of a sequence by using its index number:"
      ],
      "id": "fGsWsJvkRDaW"
    },
    {
      "cell_type": "code",
      "metadata": {
        "colab": {
          "base_uri": "https://localhost:8080/",
          "height": 36
        },
        "id": "Xmj0Pl6ARRt8",
        "outputId": "c7e75c5f-9233-4ab6-dd61-79e61ad63397"
      },
      "source": [
        "my_sequence = 'Bill Cheatham'\n",
        "my_sequence [0]"
      ],
      "id": "Xmj0Pl6ARRt8",
      "execution_count": null,
      "outputs": [
        {
          "output_type": "execute_result",
          "data": {
            "application/vnd.google.colaboratory.intrinsic+json": {
              "type": "string"
            },
            "text/plain": [
              "'B'"
            ]
          },
          "metadata": {},
          "execution_count": 5
        }
      ]
    },
    {
      "cell_type": "code",
      "metadata": {
        "colab": {
          "base_uri": "https://localhost:8080/",
          "height": 36
        },
        "id": "Hrs0dqBERhNa",
        "outputId": "290381e0-6e19-401b-97b2-ea44534e0440"
      },
      "source": [
        "my_sequence[2]"
      ],
      "id": "Hrs0dqBERhNa",
      "execution_count": null,
      "outputs": [
        {
          "output_type": "execute_result",
          "data": {
            "application/vnd.google.colaboratory.intrinsic+json": {
              "type": "string"
            },
            "text/plain": [
              "'l'"
            ]
          },
          "metadata": {},
          "execution_count": 6
        }
      ]
    },
    {
      "cell_type": "code",
      "metadata": {
        "colab": {
          "base_uri": "https://localhost:8080/",
          "height": 36
        },
        "id": "g40Xv_lVRlHH",
        "outputId": "3fb9b0c1-80c7-44c8-db5f-821d28186886"
      },
      "source": [
        "my_sequence[12]"
      ],
      "id": "g40Xv_lVRlHH",
      "execution_count": null,
      "outputs": [
        {
          "output_type": "execute_result",
          "data": {
            "application/vnd.google.colaboratory.intrinsic+json": {
              "type": "string"
            },
            "text/plain": [
              "'m'"
            ]
          },
          "metadata": {},
          "execution_count": 7
        }
      ]
    },
    {
      "cell_type": "markdown",
      "metadata": {
        "id": "grupAwL1RrqS"
      },
      "source": [
        "You can index at then end of sequence, the last item has an index of -1;"
      ],
      "id": "grupAwL1RrqS"
    },
    {
      "cell_type": "code",
      "metadata": {
        "colab": {
          "base_uri": "https://localhost:8080/",
          "height": 36
        },
        "id": "q7duRi6FR24J",
        "outputId": "83647a07-35ea-460e-da3b-0c8c6cb89727"
      },
      "source": [
        "my_sequence = \"Bill Cheatham\"\n",
        "my_sequence[-1]"
      ],
      "id": "q7duRi6FR24J",
      "execution_count": null,
      "outputs": [
        {
          "output_type": "execute_result",
          "data": {
            "application/vnd.google.colaboratory.intrinsic+json": {
              "type": "string"
            },
            "text/plain": [
              "'m'"
            ]
          },
          "metadata": {},
          "execution_count": 4
        }
      ]
    },
    {
      "cell_type": "code",
      "metadata": {
        "colab": {
          "base_uri": "https://localhost:8080/",
          "height": 36
        },
        "id": "0Yw7WETdiwqs",
        "outputId": "90421a32-298d-4b06-83c7-9d18b0db0448"
      },
      "source": [
        "my_sequence = \"Bill Cheatham\"\n",
        "my_sequence[-2]"
      ],
      "id": "0Yw7WETdiwqs",
      "execution_count": null,
      "outputs": [
        {
          "output_type": "execute_result",
          "data": {
            "application/vnd.google.colaboratory.intrinsic+json": {
              "type": "string"
            },
            "text/plain": [
              "'a'"
            ]
          },
          "metadata": {},
          "execution_count": 3
        }
      ]
    },
    {
      "cell_type": "code",
      "metadata": {
        "colab": {
          "base_uri": "https://localhost:8080/",
          "height": 36
        },
        "id": "QdXwmYVCjC3b",
        "outputId": "8238d16d-3466-44d8-bc99-51e7307a74ec"
      },
      "source": [
        "my_sequence[-13]"
      ],
      "id": "QdXwmYVCjC3b",
      "execution_count": null,
      "outputs": [
        {
          "output_type": "execute_result",
          "data": {
            "application/vnd.google.colaboratory.intrinsic+json": {
              "type": "string"
            },
            "text/plain": [
              "'B'"
            ]
          },
          "metadata": {},
          "execution_count": 6
        }
      ]
    },
    {
      "cell_type": "markdown",
      "metadata": {
        "id": "qAzNCaacjPi5"
      },
      "source": [
        "The <font color='cyan'>index</font> method returns the index of the first ocurrance of the item, optional arguments can define subranges to search:"
      ],
      "id": "qAzNCaacjPi5"
    },
    {
      "cell_type": "code",
      "metadata": {
        "colab": {
          "base_uri": "https://localhost:8080/"
        },
        "id": "2viAbSRmj3UT",
        "outputId": "8fbd885e-8790-49bc-c6e4-3ead329ef54c"
      },
      "source": [
        "my_sequence = \"Bill Cheatham\"\n",
        "my_sequence.index('C')"
      ],
      "id": "2viAbSRmj3UT",
      "execution_count": null,
      "outputs": [
        {
          "output_type": "execute_result",
          "data": {
            "text/plain": [
              "5"
            ]
          },
          "metadata": {},
          "execution_count": 10
        }
      ]
    },
    {
      "cell_type": "code",
      "metadata": {
        "colab": {
          "base_uri": "https://localhost:8080/"
        },
        "id": "WrWWVUgbkMPE",
        "outputId": "ee6dde87-efb6-4e53-ecbc-06030219f7f3"
      },
      "source": [
        "my_sequence.index('a')"
      ],
      "id": "WrWWVUgbkMPE",
      "execution_count": null,
      "outputs": [
        {
          "output_type": "execute_result",
          "data": {
            "text/plain": [
              "8"
            ]
          },
          "metadata": {},
          "execution_count": 11
        }
      ]
    },
    {
      "cell_type": "code",
      "metadata": {
        "colab": {
          "base_uri": "https://localhost:8080/"
        },
        "id": "R8UL12lfkOme",
        "outputId": "4dc34acd-4301-4e51-c24a-e518c330b3ff"
      },
      "source": [
        "my_sequence.index('a',9, 12)"
      ],
      "id": "R8UL12lfkOme",
      "execution_count": null,
      "outputs": [
        {
          "output_type": "execute_result",
          "data": {
            "text/plain": [
              "11"
            ]
          },
          "metadata": {},
          "execution_count": 12
        }
      ]
    },
    {
      "cell_type": "code",
      "metadata": {
        "colab": {
          "base_uri": "https://localhost:8080/",
          "height": 36
        },
        "id": "_n75cy_JkigY",
        "outputId": "2af7a41c-0cb1-4cbf-b81f-f2cb3a12fe9f"
      },
      "source": [
        "my_sequence[11]"
      ],
      "id": "_n75cy_JkigY",
      "execution_count": null,
      "outputs": [
        {
          "output_type": "execute_result",
          "data": {
            "application/vnd.google.colaboratory.intrinsic+json": {
              "type": "string"
            },
            "text/plain": [
              "'a'"
            ]
          },
          "metadata": {},
          "execution_count": 13
        }
      ]
    },
    {
      "cell_type": "markdown",
      "metadata": {
        "id": "bJ-SbA--kndz"
      },
      "source": [
        "We can use <font color='cyan'>slicing</font> to produce a new sequence from the orginal. A slice appears by invoking a sequence with brackets containing optional <font color='cyan'>start</font>, <font color='cyan'>stop</font>, and <font color='cyan'>step</font> arguments."
      ],
      "id": "bJ-SbA--kndz"
    },
    {
      "cell_type": "markdown",
      "metadata": {
        "id": "93jRLt4z_FJK"
      },
      "source": [
        "my_sequence[start:stop:step]"
      ],
      "id": "93jRLt4z_FJK"
    },
    {
      "cell_type": "markdown",
      "metadata": {
        "id": "iNvoVno1mNsx"
      },
      "source": [
        "*start* is the index of the first item to use in the new sequence, *stop* the first index beyong that point, and *step* is the distance between items."
      ],
      "id": "iNvoVno1mNsx"
    },
    {
      "cell_type": "code",
      "metadata": {
        "colab": {
          "base_uri": "https://localhost:8080/"
        },
        "id": "rNn0lcMNm3BY",
        "outputId": "c2840437-9643-4faf-f1cb-c31b26b8f1be"
      },
      "source": [
        "my_sequence = ['a', 'b', 'c', 'd', 'e', 'f', 'g']\n",
        "my_sequence[2:5]\n"
      ],
      "id": "rNn0lcMNm3BY",
      "execution_count": null,
      "outputs": [
        {
          "output_type": "execute_result",
          "data": {
            "text/plain": [
              "['c', 'd', 'e']"
            ]
          },
          "metadata": {},
          "execution_count": 17
        }
      ]
    },
    {
      "cell_type": "code",
      "metadata": {
        "colab": {
          "base_uri": "https://localhost:8080/"
        },
        "id": "58icxbHfl-1a",
        "outputId": "791bb78c-1a69-4bd3-ed70-61fc64a13880"
      },
      "source": [
        "my_sequence[:5]"
      ],
      "id": "58icxbHfl-1a",
      "execution_count": null,
      "outputs": [
        {
          "output_type": "execute_result",
          "data": {
            "text/plain": [
              "['a', 'b', 'c', 'd', 'e']"
            ]
          },
          "metadata": {},
          "execution_count": 18
        }
      ]
    },
    {
      "cell_type": "code",
      "metadata": {
        "colab": {
          "base_uri": "https://localhost:8080/"
        },
        "id": "-7l0Zcb7nd-9",
        "outputId": "8cfd6664-5b8f-4068-9d16-4a0ae54ef43f"
      },
      "source": [
        "my_sequence[3:]"
      ],
      "id": "-7l0Zcb7nd-9",
      "execution_count": null,
      "outputs": [
        {
          "output_type": "execute_result",
          "data": {
            "text/plain": [
              "['d', 'e', 'f', 'g']"
            ]
          },
          "metadata": {},
          "execution_count": 19
        }
      ]
    },
    {
      "cell_type": "code",
      "metadata": {
        "colab": {
          "base_uri": "https://localhost:8080/"
        },
        "id": "ukT43mPanxBd",
        "outputId": "9e6581c5-d1e8-4c4d-f321-21672917d02e"
      },
      "source": [
        "my_sequence[-6:]"
      ],
      "id": "ukT43mPanxBd",
      "execution_count": null,
      "outputs": [
        {
          "output_type": "execute_result",
          "data": {
            "text/plain": [
              "['b', 'c', 'd', 'e', 'f', 'g']"
            ]
          },
          "metadata": {},
          "execution_count": 20
        }
      ]
    },
    {
      "cell_type": "code",
      "metadata": {
        "colab": {
          "base_uri": "https://localhost:8080/"
        },
        "id": "jKMELCUin4Ez",
        "outputId": "0fe3927f-6b6b-4bf5-c844-5ddb8bf36314"
      },
      "source": [
        "my_sequence[3:-1]"
      ],
      "id": "jKMELCUin4Ez",
      "execution_count": null,
      "outputs": [
        {
          "output_type": "execute_result",
          "data": {
            "text/plain": [
              "['d', 'e', 'f']"
            ]
          },
          "metadata": {},
          "execution_count": 21
        }
      ]
    },
    {
      "cell_type": "markdown",
      "metadata": {
        "id": "NF4HGM9L9rKi"
      },
      "source": [
        "Sequences share many operations for getting information about them and their contents. *len* returns the length of the sequence, *min* the smallest number, *max* the largest, and *count* the particular item:"
      ],
      "id": "NF4HGM9L9rKi"
    },
    {
      "cell_type": "code",
      "metadata": {
        "id": "pvprH72on-Wc"
      },
      "source": [
        "my_sequence = [0, 1, 2, 0, 1, 2, 3, 0, 1, 2, 3, 4]"
      ],
      "id": "pvprH72on-Wc",
      "execution_count": null,
      "outputs": []
    },
    {
      "cell_type": "code",
      "metadata": {
        "colab": {
          "base_uri": "https://localhost:8080/"
        },
        "id": "iLzXZeEA-hPl",
        "outputId": "b7bfa373-6cd6-4525-aed5-c1a389e41bac"
      },
      "source": [
        "len(my_sequence)"
      ],
      "id": "iLzXZeEA-hPl",
      "execution_count": null,
      "outputs": [
        {
          "output_type": "execute_result",
          "data": {
            "text/plain": [
              "12"
            ]
          },
          "metadata": {},
          "execution_count": 23
        }
      ]
    },
    {
      "cell_type": "code",
      "metadata": {
        "colab": {
          "base_uri": "https://localhost:8080/"
        },
        "id": "xDY7xfZE-kl8",
        "outputId": "9e94f57f-e828-40e8-b237-9145429f0801"
      },
      "source": [
        "min(my_sequence)"
      ],
      "id": "xDY7xfZE-kl8",
      "execution_count": null,
      "outputs": [
        {
          "output_type": "execute_result",
          "data": {
            "text/plain": [
              "0"
            ]
          },
          "metadata": {},
          "execution_count": 24
        }
      ]
    },
    {
      "cell_type": "code",
      "metadata": {
        "colab": {
          "base_uri": "https://localhost:8080/"
        },
        "id": "91f5xswp-nc7",
        "outputId": "f747533d-d182-4a78-80b8-970644513e0c"
      },
      "source": [
        "max(my_sequence)"
      ],
      "id": "91f5xswp-nc7",
      "execution_count": null,
      "outputs": [
        {
          "output_type": "execute_result",
          "data": {
            "text/plain": [
              "4"
            ]
          },
          "metadata": {},
          "execution_count": 25
        }
      ]
    },
    {
      "cell_type": "code",
      "metadata": {
        "colab": {
          "base_uri": "https://localhost:8080/"
        },
        "id": "kbnvLmfh-pnX",
        "outputId": "21ec134f-385c-4730-93a5-c7cf1ea47012"
      },
      "source": [
        "my_sequence.count(1)"
      ],
      "id": "kbnvLmfh-pnX",
      "execution_count": null,
      "outputs": [
        {
          "output_type": "execute_result",
          "data": {
            "text/plain": [
              "3"
            ]
          },
          "metadata": {},
          "execution_count": 26
        }
      ]
    },
    {
      "cell_type": "markdown",
      "metadata": {
        "id": "Ge2HgB_--w9r"
      },
      "source": [
        "## <font color='yellow'>Lists</font>"
      ],
      "id": "Ge2HgB_--w9r"
    },
    {
      "cell_type": "markdown",
      "metadata": {
        "id": "X2-T3tlw_Ol_"
      },
      "source": [
        "List are one of the most commonly used Python data structures, they are a ordered list/collection of items of any type enclosed in square brackets[ ]. "
      ],
      "id": "X2-T3tlw_Ol_"
    },
    {
      "cell_type": "markdown",
      "metadata": {
        "id": "YbcNBHCV_yUy"
      },
      "source": [
        "The function <font color='cyan'>list( )</font> can create an empty list or a listed based on another finite iterable object (like another sequence):"
      ],
      "id": "YbcNBHCV_yUy"
    },
    {
      "cell_type": "code",
      "metadata": {
        "colab": {
          "base_uri": "https://localhost:8080/"
        },
        "id": "i_OYd9p4Artc",
        "outputId": "a838fa08-2306-47c2-ddee-0618fb10c9ce"
      },
      "source": [
        "list()"
      ],
      "id": "i_OYd9p4Artc",
      "execution_count": null,
      "outputs": [
        {
          "output_type": "execute_result",
          "data": {
            "text/plain": [
              "[]"
            ]
          },
          "metadata": {},
          "execution_count": 27
        }
      ]
    },
    {
      "cell_type": "code",
      "metadata": {
        "colab": {
          "base_uri": "https://localhost:8080/"
        },
        "id": "JB2mtomtBS3u",
        "outputId": "c20c794c-2121-4acc-f305-94bb315aec9e"
      },
      "source": [
        "list(range(10))"
      ],
      "id": "JB2mtomtBS3u",
      "execution_count": null,
      "outputs": [
        {
          "output_type": "execute_result",
          "data": {
            "text/plain": [
              "[0, 1, 2, 3, 4, 5, 6, 7, 8, 9]"
            ]
          },
          "metadata": {},
          "execution_count": 28
        }
      ]
    },
    {
      "cell_type": "code",
      "metadata": {
        "colab": {
          "base_uri": "https://localhost:8080/"
        },
        "id": "gFPdHGMxBXSc",
        "outputId": "42bf2c9b-867d-4132-b9b2-b3be509a6983"
      },
      "source": [
        "list(\"Henry Miller\")"
      ],
      "id": "gFPdHGMxBXSc",
      "execution_count": null,
      "outputs": [
        {
          "output_type": "execute_result",
          "data": {
            "text/plain": [
              "['H', 'e', 'n', 'r', 'y', ' ', 'M', 'i', 'l', 'l', 'e', 'r']"
            ]
          },
          "metadata": {},
          "execution_count": 29
        }
      ]
    },
    {
      "cell_type": "markdown",
      "metadata": {
        "id": "kIhWdR_pBkwf"
      },
      "source": [
        "Listed made with square brackets are the most common. Items in the list need to be enumerated explicitly in this case:"
      ],
      "id": "kIhWdR_pBkwf"
    },
    {
      "cell_type": "code",
      "metadata": {
        "colab": {
          "base_uri": "https://localhost:8080/"
        },
        "id": "6l68zjylChCH",
        "outputId": "a9562d0a-7be6-40ca-d130-a792884259f7"
      },
      "source": [
        "empty = []\n",
        "empty"
      ],
      "id": "6l68zjylChCH",
      "execution_count": null,
      "outputs": [
        {
          "output_type": "execute_result",
          "data": {
            "text/plain": [
              "[]"
            ]
          },
          "metadata": {},
          "execution_count": 32
        }
      ]
    },
    {
      "cell_type": "code",
      "metadata": {
        "colab": {
          "base_uri": "https://localhost:8080/"
        },
        "id": "iNDIrTcEC3-1",
        "outputId": "85619feb-bd2a-4529-f12e-288ce4aca2d4"
      },
      "source": [
        "nine = [0, 1, 2, 3, 4, 5, 6, 7, 8, 9]\n",
        "nine"
      ],
      "id": "iNDIrTcEC3-1",
      "execution_count": null,
      "outputs": [
        {
          "output_type": "execute_result",
          "data": {
            "text/plain": [
              "[0, 1, 2, 3, 4, 5, 6, 7, 8, 9]"
            ]
          },
          "metadata": {},
          "execution_count": 33
        }
      ]
    },
    {
      "cell_type": "code",
      "metadata": {
        "colab": {
          "base_uri": "https://localhost:8080/"
        },
        "id": "5UaKMzxfC5oz",
        "outputId": "10c9e78f-2289-47d8-97a7-f85945753a16"
      },
      "source": [
        "mixed = [0, 'a', empty, 'WheelHoss']\n",
        "mixed"
      ],
      "id": "5UaKMzxfC5oz",
      "execution_count": null,
      "outputs": [
        {
          "output_type": "execute_result",
          "data": {
            "text/plain": [
              "[0, 'a', [], 'WheelHoss']"
            ]
          },
          "metadata": {},
          "execution_count": 34
        }
      ]
    },
    {
      "cell_type": "markdown",
      "metadata": {
        "id": "Kn-L6jOb1IE-"
      },
      "source": [
        "<font color='cyan'>append</font> method adds a single item to the end of a list and <font color='cyan'>insert</font> method lets you choose the index position."
      ],
      "id": "Kn-L6jOb1IE-"
    },
    {
      "cell_type": "code",
      "metadata": {
        "colab": {
          "base_uri": "https://localhost:8080/"
        },
        "id": "uExAq_lz174c",
        "outputId": "ef776c28-b74c-4612-e3b0-3f6cfea945bf"
      },
      "source": [
        "pies = ['cherry', 'apple']\n",
        "pies\n"
      ],
      "id": "uExAq_lz174c",
      "execution_count": null,
      "outputs": [
        {
          "output_type": "execute_result",
          "data": {
            "text/plain": [
              "['cherry', 'apple']"
            ]
          },
          "metadata": {},
          "execution_count": 35
        }
      ]
    },
    {
      "cell_type": "code",
      "metadata": {
        "colab": {
          "base_uri": "https://localhost:8080/"
        },
        "id": "oKr9QSNf2GM0",
        "outputId": "6bf2108e-9a29-4d8b-d065-be64cdccfe0f"
      },
      "source": [
        "pies.append('rubarb')\n",
        "pies"
      ],
      "id": "oKr9QSNf2GM0",
      "execution_count": null,
      "outputs": [
        {
          "output_type": "execute_result",
          "data": {
            "text/plain": [
              "['cherry', 'apple', 'rubarb']"
            ]
          },
          "metadata": {},
          "execution_count": 36
        }
      ]
    },
    {
      "cell_type": "code",
      "metadata": {
        "colab": {
          "base_uri": "https://localhost:8080/"
        },
        "id": "41debHIg2L0k",
        "outputId": "d90b1249-4056-4e7a-932e-0185979d50bf"
      },
      "source": [
        "pies.insert(1, 'pumpkin')\n",
        "pies"
      ],
      "id": "41debHIg2L0k",
      "execution_count": null,
      "outputs": [
        {
          "output_type": "execute_result",
          "data": {
            "text/plain": [
              "['cherry', 'pumpkin', 'apple', 'rubarb']"
            ]
          },
          "metadata": {},
          "execution_count": 37
        }
      ]
    },
    {
      "cell_type": "markdown",
      "metadata": {
        "id": "cToYzBBR2aFa"
      },
      "source": [
        "<font color='cyan'>extend</font> method lets you add one list to another:"
      ],
      "id": "cToYzBBR2aFa"
    },
    {
      "cell_type": "code",
      "metadata": {
        "colab": {
          "base_uri": "https://localhost:8080/"
        },
        "id": "xCD8tBK12qmM",
        "outputId": "76785c01-9f3b-4d73-c377-c617f9dd7a5a"
      },
      "source": [
        "pies"
      ],
      "id": "xCD8tBK12qmM",
      "execution_count": null,
      "outputs": [
        {
          "output_type": "execute_result",
          "data": {
            "text/plain": [
              "['cherry', 'pumpkin', 'apple', 'rubarb']"
            ]
          },
          "metadata": {},
          "execution_count": 38
        }
      ]
    },
    {
      "cell_type": "code",
      "metadata": {
        "colab": {
          "base_uri": "https://localhost:8080/"
        },
        "id": "29Aznfy22s3O",
        "outputId": "5e4dca53-6a6f-42b5-c49a-df8c4fe19f5a"
      },
      "source": [
        "desserts = ['cookies', 'scones']\n",
        "desserts"
      ],
      "id": "29Aznfy22s3O",
      "execution_count": null,
      "outputs": [
        {
          "output_type": "execute_result",
          "data": {
            "text/plain": [
              "['cookies', 'scones']"
            ]
          },
          "metadata": {},
          "execution_count": 39
        }
      ]
    },
    {
      "cell_type": "code",
      "metadata": {
        "colab": {
          "base_uri": "https://localhost:8080/"
        },
        "id": "_Q3q8TuR21vc",
        "outputId": "54fcd541-4d64-48a4-811f-f87bbaa13936"
      },
      "source": [
        "desserts.extend(pies)\n",
        "desserts"
      ],
      "id": "_Q3q8TuR21vc",
      "execution_count": null,
      "outputs": [
        {
          "output_type": "execute_result",
          "data": {
            "text/plain": [
              "['cookies', 'scones', 'cherry', 'pumpkin', 'apple', 'rubarb']"
            ]
          },
          "metadata": {},
          "execution_count": 40
        }
      ]
    },
    {
      "cell_type": "markdown",
      "metadata": {
        "id": "nTJxC-y03BH2"
      },
      "source": [
        "The most efficient and common way of removing the last item from a list and returning its values is to <font color ='cyan'>pop</font> it. An index argument can be supplied to this method, removing and returning the item at that index. This technigue is less efficient, as the list needs to be re-indexed:  "
      ],
      "id": "nTJxC-y03BH2"
    },
    {
      "cell_type": "code",
      "metadata": {
        "colab": {
          "base_uri": "https://localhost:8080/"
        },
        "id": "7kPU1WWe3tfa",
        "outputId": "a4538e88-666d-40e6-f052-4c316b366ad9"
      },
      "source": [
        "pies"
      ],
      "id": "7kPU1WWe3tfa",
      "execution_count": null,
      "outputs": [
        {
          "output_type": "execute_result",
          "data": {
            "text/plain": [
              "['cherry', 'pumpkin', 'apple', 'rubarb']"
            ]
          },
          "metadata": {},
          "execution_count": 41
        }
      ]
    },
    {
      "cell_type": "code",
      "metadata": {
        "colab": {
          "base_uri": "https://localhost:8080/",
          "height": 36
        },
        "id": "Nd7ujtwp3xin",
        "outputId": "58844a16-5c6b-4da1-8f3d-d10082ff8e97"
      },
      "source": [
        "pies.pop()"
      ],
      "id": "Nd7ujtwp3xin",
      "execution_count": null,
      "outputs": [
        {
          "output_type": "execute_result",
          "data": {
            "application/vnd.google.colaboratory.intrinsic+json": {
              "type": "string"
            },
            "text/plain": [
              "'rubarb'"
            ]
          },
          "metadata": {},
          "execution_count": 42
        }
      ]
    },
    {
      "cell_type": "code",
      "metadata": {
        "colab": {
          "base_uri": "https://localhost:8080/"
        },
        "id": "_bgoKXKm31M6",
        "outputId": "2e1ea98f-b598-4358-d962-9617e4dd4176"
      },
      "source": [
        "pies"
      ],
      "id": "_bgoKXKm31M6",
      "execution_count": null,
      "outputs": [
        {
          "output_type": "execute_result",
          "data": {
            "text/plain": [
              "['cherry', 'pumpkin', 'apple']"
            ]
          },
          "metadata": {},
          "execution_count": 43
        }
      ]
    },
    {
      "cell_type": "code",
      "metadata": {
        "colab": {
          "base_uri": "https://localhost:8080/",
          "height": 36
        },
        "id": "7NG_IRkt32d5",
        "outputId": "8d8c9cf8-8319-4db1-e100-22b480c6b48c"
      },
      "source": [
        "pies.pop(1)"
      ],
      "id": "7NG_IRkt32d5",
      "execution_count": null,
      "outputs": [
        {
          "output_type": "execute_result",
          "data": {
            "application/vnd.google.colaboratory.intrinsic+json": {
              "type": "string"
            },
            "text/plain": [
              "'pumpkin'"
            ]
          },
          "metadata": {},
          "execution_count": 44
        }
      ]
    },
    {
      "cell_type": "code",
      "metadata": {
        "colab": {
          "base_uri": "https://localhost:8080/"
        },
        "id": "oGPbEDYQ35rx",
        "outputId": "aef7536d-102d-48b9-ca23-4eb606fefb76"
      },
      "source": [
        "pies"
      ],
      "id": "oGPbEDYQ35rx",
      "execution_count": null,
      "outputs": [
        {
          "output_type": "execute_result",
          "data": {
            "text/plain": [
              "['cherry', 'apple']"
            ]
          },
          "metadata": {},
          "execution_count": 45
        }
      ]
    },
    {
      "cell_type": "markdown",
      "metadata": {
        "id": "Ph_TsBda4RkV"
      },
      "source": [
        "There is also the <font color ='cyan'>remove( )</font> method, it removes the first occurrece of an item."
      ],
      "id": "Ph_TsBda4RkV"
    },
    {
      "cell_type": "code",
      "metadata": {
        "colab": {
          "base_uri": "https://localhost:8080/"
        },
        "id": "elp2gdli3-go",
        "outputId": "2dce9ec2-72ec-4526-8b74-3228adb77626"
      },
      "source": [
        "pies.remove('apple')\n",
        "pies"
      ],
      "id": "elp2gdli3-go",
      "execution_count": null,
      "outputs": [
        {
          "output_type": "execute_result",
          "data": {
            "text/plain": [
              "['cherry']"
            ]
          },
          "metadata": {},
          "execution_count": 46
        }
      ]
    },
    {
      "cell_type": "markdown",
      "metadata": {
        "id": "_11iMfx942Yq"
      },
      "source": [
        "## <font color ='yellow'>List Comprehension</font>"
      ],
      "id": "_11iMfx942Yq"
    },
    {
      "cell_type": "markdown",
      "metadata": {
        "id": "_UDg-n795ifr"
      },
      "source": [
        "One of the most potent and useful Python features is <font color='cyan'>list comprehension</font> . It should become second nature to any good programmer. \n",
        "\n",
        "It allows the coder to use the functionality of a *for* loop in a single line of code. \n",
        "\n",
        "Let's look at a simple example, starting with a *for* loop squaring all of the numbers from 0-9 and appending them to a list:"
      ],
      "id": "_UDg-n795ifr"
    },
    {
      "cell_type": "code",
      "metadata": {
        "colab": {
          "base_uri": "https://localhost:8080/"
        },
        "id": "V-0Tq7JH67n5",
        "outputId": "d23ee4a8-7f91-4282-bafc-71630f712039"
      },
      "source": [
        "squares = []\n",
        "for i in range(10):\n",
        "  squared = i*i\n",
        "  squares.append(squared)\n",
        "squares"
      ],
      "id": "V-0Tq7JH67n5",
      "execution_count": null,
      "outputs": [
        {
          "output_type": "execute_result",
          "data": {
            "text/plain": [
              "[0, 1, 4, 9, 16, 25, 36, 49, 64, 81]"
            ]
          },
          "metadata": {},
          "execution_count": 47
        }
      ]
    },
    {
      "cell_type": "markdown",
      "metadata": {
        "id": "Pmyl6MP_GzeJ"
      },
      "source": [
        "In order to replace this with a list comprehension, we do the following:"
      ],
      "id": "Pmyl6MP_GzeJ"
    },
    {
      "cell_type": "code",
      "metadata": {
        "colab": {
          "base_uri": "https://localhost:8080/"
        },
        "id": "HeTuJqf4GwO-",
        "outputId": "31ef67f6-402b-48a0-b7a9-63b38ceec6b9"
      },
      "source": [
        "squares = [i*i for i in range(10)]\n",
        "squares"
      ],
      "id": "HeTuJqf4GwO-",
      "execution_count": null,
      "outputs": [
        {
          "output_type": "execute_result",
          "data": {
            "text/plain": [
              "[0, 1, 4, 9, 16, 25, 36, 49, 64, 81]"
            ]
          },
          "metadata": {},
          "execution_count": 48
        }
      ]
    },
    {
      "cell_type": "markdown",
      "metadata": {
        "id": "MuMAXLZNHMZX"
      },
      "source": [
        "-Note that the functionality of the inner block is put first, followed by the <font color='cyan'>for</font> statement. You can also add conditionals to list comprehensions, filtering the results:"
      ],
      "id": "MuMAXLZNHMZX"
    },
    {
      "cell_type": "code",
      "metadata": {
        "colab": {
          "base_uri": "https://localhost:8080/"
        },
        "id": "y-Qh_Bb3HGXm",
        "outputId": "4d6f5a29-0752-4508-eb85-b829715ebe2f"
      },
      "source": [
        "squares = [i*i for i in range(10) if i%2==0]\n",
        "squares"
      ],
      "id": "y-Qh_Bb3HGXm",
      "execution_count": null,
      "outputs": [
        {
          "output_type": "execute_result",
          "data": {
            "text/plain": [
              "[0, 4, 16, 36, 64]"
            ]
          },
          "metadata": {},
          "execution_count": 49
        }
      ]
    },
    {
      "cell_type": "markdown",
      "metadata": {
        "id": "srBFkh7oIH8U"
      },
      "source": [
        "## <font color='green'>Strings</font>"
      ],
      "id": "srBFkh7oIH8U"
    },
    {
      "cell_type": "markdown",
      "metadata": {
        "id": "IrCg7I26INt5"
      },
      "source": [
        "The string sequence tyoe is a colletion of ordered characters surrounded by quotation marks. As of Python 3, strings use UTF-8 encoding.\n",
        "\n",
        "To create string we use <font color='cyan'>str( )</font> method. or enclosing the text in quotation marks (\"like's this\", 'or like this'):"
      ],
      "id": "IrCg7I26INt5"
    },
    {
      "cell_type": "code",
      "metadata": {
        "colab": {
          "base_uri": "https://localhost:8080/",
          "height": 36
        },
        "id": "0XbLUCHpKR-y",
        "outputId": "7c9131d2-0654-4f57-dc11-4f85130522f1"
      },
      "source": [
        "str()"
      ],
      "id": "0XbLUCHpKR-y",
      "execution_count": null,
      "outputs": [
        {
          "output_type": "execute_result",
          "data": {
            "application/vnd.google.colaboratory.intrinsic+json": {
              "type": "string"
            },
            "text/plain": [
              "''"
            ]
          },
          "metadata": {},
          "execution_count": 51
        }
      ]
    },
    {
      "cell_type": "code",
      "metadata": {
        "colab": {
          "base_uri": "https://localhost:8080/",
          "height": 36
        },
        "id": "t59NCcOrKV4B",
        "outputId": "6832dbdf-9290-4ed7-9f80-2f61fecc3d58"
      },
      "source": [
        "\"some new string!\""
      ],
      "id": "t59NCcOrKV4B",
      "execution_count": null,
      "outputs": [
        {
          "output_type": "execute_result",
          "data": {
            "application/vnd.google.colaboratory.intrinsic+json": {
              "type": "string"
            },
            "text/plain": [
              "'some new string!'"
            ]
          },
          "metadata": {},
          "execution_count": 52
        }
      ]
    },
    {
      "cell_type": "code",
      "metadata": {
        "colab": {
          "base_uri": "https://localhost:8080/",
          "height": 36
        },
        "id": "RrAL1QGkKa9J",
        "outputId": "1a6c9620-0629-45e8-cddc-b1c591faa19e"
      },
      "source": [
        "'or with single quotes'"
      ],
      "id": "RrAL1QGkKa9J",
      "execution_count": null,
      "outputs": [
        {
          "output_type": "execute_result",
          "data": {
            "application/vnd.google.colaboratory.intrinsic+json": {
              "type": "string"
            },
            "text/plain": [
              "'or with single quotes'"
            ]
          },
          "metadata": {},
          "execution_count": 53
        }
      ]
    },
    {
      "cell_type": "markdown",
      "metadata": {
        "id": "ftDjP0S2KgvJ"
      },
      "source": [
        "You can make *strings* from other objects:"
      ],
      "id": "ftDjP0S2KgvJ"
    },
    {
      "cell_type": "code",
      "metadata": {
        "id": "cxZGew-XKezI"
      },
      "source": [
        "my_list = list()"
      ],
      "id": "cxZGew-XKezI",
      "execution_count": null,
      "outputs": []
    },
    {
      "cell_type": "code",
      "metadata": {
        "colab": {
          "base_uri": "https://localhost:8080/",
          "height": 36
        },
        "id": "-s-7WYU_K0Oc",
        "outputId": "260a3c2b-e3b8-4a2c-cc2b-cf03e72b9557"
      },
      "source": [
        "str(my_list)"
      ],
      "id": "-s-7WYU_K0Oc",
      "execution_count": null,
      "outputs": [
        {
          "output_type": "execute_result",
          "data": {
            "application/vnd.google.colaboratory.intrinsic+json": {
              "type": "string"
            },
            "text/plain": [
              "'[]'"
            ]
          },
          "metadata": {},
          "execution_count": 55
        }
      ]
    },
    {
      "cell_type": "markdown",
      "metadata": {
        "id": "MzP9McvLK5HD"
      },
      "source": [
        "Triple quotes create multiline strings:"
      ],
      "id": "MzP9McvLK5HD"
    },
    {
      "cell_type": "code",
      "metadata": {
        "colab": {
          "base_uri": "https://localhost:8080/"
        },
        "id": "Kd2bvYV0K2Pw",
        "outputId": "072856fa-5ec3-4549-aa4d-28c5bdad7564"
      },
      "source": [
        "multi_line = \"\"\"This is a \n",
        "multi-line string,\n",
        "which includes linebreaks.\n",
        "\"\"\"\n",
        "print(multi_line)"
      ],
      "id": "Kd2bvYV0K2Pw",
      "execution_count": null,
      "outputs": [
        {
          "output_type": "stream",
          "name": "stdout",
          "text": [
            "This is a \n",
            "multi-line string,\n",
            "which includes linebreaks.\n",
            "\n"
          ]
        }
      ]
    },
    {
      "cell_type": "markdown",
      "metadata": {
        "id": "Tz0TgXBFL2w9"
      },
      "source": [
        "<font color='cyan'>strip( ) / lstrip( ) / rstrip( )</font> methods removes whitespace:"
      ],
      "id": "Tz0TgXBFL2w9"
    },
    {
      "cell_type": "code",
      "metadata": {
        "id": "FZSacjxNLR6D"
      },
      "source": [
        "input = \" I want more \""
      ],
      "id": "FZSacjxNLR6D",
      "execution_count": null,
      "outputs": []
    },
    {
      "cell_type": "code",
      "metadata": {
        "colab": {
          "base_uri": "https://localhost:8080/",
          "height": 36
        },
        "id": "e7RoVKFnMDQa",
        "outputId": "282f8607-912a-43b6-b675-ac65f05fbcdf"
      },
      "source": [
        "input.strip()"
      ],
      "id": "e7RoVKFnMDQa",
      "execution_count": null,
      "outputs": [
        {
          "output_type": "execute_result",
          "data": {
            "application/vnd.google.colaboratory.intrinsic+json": {
              "type": "string"
            },
            "text/plain": [
              "'I want more'"
            ]
          },
          "metadata": {},
          "execution_count": 59
        }
      ]
    },
    {
      "cell_type": "code",
      "metadata": {
        "colab": {
          "base_uri": "https://localhost:8080/",
          "height": 36
        },
        "id": "QFNxMis5MFnU",
        "outputId": "de98862c-78ea-4aa2-af2b-db97099ededb"
      },
      "source": [
        "input.rstrip()"
      ],
      "id": "QFNxMis5MFnU",
      "execution_count": null,
      "outputs": [
        {
          "output_type": "execute_result",
          "data": {
            "application/vnd.google.colaboratory.intrinsic+json": {
              "type": "string"
            },
            "text/plain": [
              "' I want more'"
            ]
          },
          "metadata": {},
          "execution_count": 61
        }
      ]
    },
    {
      "cell_type": "code",
      "metadata": {
        "colab": {
          "base_uri": "https://localhost:8080/",
          "height": 36
        },
        "id": "va03Pn8RMIas",
        "outputId": "05a0903f-1bb8-43ea-fa7d-7be177ddf5c0"
      },
      "source": [
        "input.lstrip()"
      ],
      "id": "va03Pn8RMIas",
      "execution_count": null,
      "outputs": [
        {
          "output_type": "execute_result",
          "data": {
            "application/vnd.google.colaboratory.intrinsic+json": {
              "type": "string"
            },
            "text/plain": [
              "'I want more '"
            ]
          },
          "metadata": {},
          "execution_count": 62
        }
      ]
    },
    {
      "cell_type": "markdown",
      "metadata": {
        "id": "klnvEJElMVkB"
      },
      "source": [
        "To add whitespace we use <font color='cyan'>ljust( ) / rjust( )</font> method:"
      ],
      "id": "klnvEJElMVkB"
    },
    {
      "cell_type": "code",
      "metadata": {
        "id": "vVkTAQk9MPMe"
      },
      "source": [
        "output = 'Mina'"
      ],
      "id": "vVkTAQk9MPMe",
      "execution_count": null,
      "outputs": []
    },
    {
      "cell_type": "code",
      "metadata": {
        "colab": {
          "base_uri": "https://localhost:8080/",
          "height": 36
        },
        "id": "8Ujk7nKvMtkE",
        "outputId": "fddc1bce-2228-4eaa-c221-b1c9aff7b1b8"
      },
      "source": [
        "output.ljust(10)"
      ],
      "id": "8Ujk7nKvMtkE",
      "execution_count": null,
      "outputs": [
        {
          "output_type": "execute_result",
          "data": {
            "application/vnd.google.colaboratory.intrinsic+json": {
              "type": "string"
            },
            "text/plain": [
              "'Mina      '"
            ]
          },
          "metadata": {},
          "execution_count": 64
        }
      ]
    },
    {
      "cell_type": "code",
      "metadata": {
        "colab": {
          "base_uri": "https://localhost:8080/",
          "height": 36
        },
        "id": "cIp4cW25MxjG",
        "outputId": "a0592d48-75ad-40ea-879a-e1e768c9a970"
      },
      "source": [
        "output.rjust(10, '*')"
      ],
      "id": "cIp4cW25MxjG",
      "execution_count": null,
      "outputs": [
        {
          "output_type": "execute_result",
          "data": {
            "application/vnd.google.colaboratory.intrinsic+json": {
              "type": "string"
            },
            "text/plain": [
              "'******Mina'"
            ]
          },
          "metadata": {},
          "execution_count": 65
        }
      ]
    },
    {
      "cell_type": "markdown",
      "metadata": {
        "id": "yUjmIeEQM8Jt"
      },
      "source": [
        "<font color='cyan'>split( )</font> method breaks a string into a list of strings, we can also add upto 2 additional arguments for further splitting: "
      ],
      "id": "yUjmIeEQM8Jt"
    },
    {
      "cell_type": "code",
      "metadata": {
        "colab": {
          "base_uri": "https://localhost:8080/"
        },
        "id": "L6-Er_ORM3wf",
        "outputId": "ed589260-d5f5-4ad5-c00b-aff7a11638e7"
      },
      "source": [
        " text = \"Drop out of life\"\n",
        " text.split()"
      ],
      "id": "L6-Er_ORM3wf",
      "execution_count": null,
      "outputs": [
        {
          "output_type": "execute_result",
          "data": {
            "text/plain": [
              "['Drop', 'out', 'of', 'life']"
            ]
          },
          "metadata": {},
          "execution_count": 66
        }
      ]
    },
    {
      "cell_type": "code",
      "metadata": {
        "colab": {
          "base_uri": "https://localhost:8080/"
        },
        "id": "ATa4g1cBOHyS",
        "outputId": "6ce96a6a-8018-4849-9756-382064e6d252"
      },
      "source": [
        "url = \"linuxcommand.org/midnightcommand\"\n",
        "url.split('/')"
      ],
      "id": "ATa4g1cBOHyS",
      "execution_count": null,
      "outputs": [
        {
          "output_type": "execute_result",
          "data": {
            "text/plain": [
              "['linuxcommand.org', 'midnightcommand']"
            ]
          },
          "metadata": {},
          "execution_count": 70
        }
      ]
    },
    {
      "cell_type": "markdown",
      "metadata": {
        "id": "Jmw62jhxPN-7"
      },
      "source": [
        "We can easily create a new string from a sequence of strings and <font color='cyan'>join( )</font> them into a single string. This method inserts a string as a separator between a list of other strings:"
      ],
      "id": "Jmw62jhxPN-7"
    },
    {
      "cell_type": "code",
      "metadata": {
        "id": "bje4EW0oOd9w"
      },
      "source": [
        "items = ['cow', 'milk', 'bread', 'butter']"
      ],
      "id": "bje4EW0oOd9w",
      "execution_count": null,
      "outputs": []
    },
    {
      "cell_type": "code",
      "metadata": {
        "colab": {
          "base_uri": "https://localhost:8080/",
          "height": 36
        },
        "id": "NFkhSfAfPyae",
        "outputId": "d728c21e-6785-4631-b780-2931601d1f68"
      },
      "source": [
        "\" and \".join(items)"
      ],
      "id": "NFkhSfAfPyae",
      "execution_count": null,
      "outputs": [
        {
          "output_type": "execute_result",
          "data": {
            "application/vnd.google.colaboratory.intrinsic+json": {
              "type": "string"
            },
            "text/plain": [
              "'cow and milk and bread and butter'"
            ]
          },
          "metadata": {},
          "execution_count": 72
        }
      ]
    },
    {
      "cell_type": "markdown",
      "metadata": {
        "id": "EqeM6gZnP85V"
      },
      "source": [
        "Changing the case of text with <font color='cyan'>capitalize( )</font>, <font color='cyan'>upper( )</font>, <font color='cyan'>title( )</font>, <font color='cyan'>swapcase( )</font>, and <font color='cyan'>lower( )</font>:"
      ],
      "id": "EqeM6gZnP85V"
    },
    {
      "cell_type": "code",
      "metadata": {
        "id": "x5at8ymHP6-h"
      },
      "source": [
        "name = \"ronald osbeck\"\n"
      ],
      "id": "x5at8ymHP6-h",
      "execution_count": null,
      "outputs": []
    },
    {
      "cell_type": "code",
      "metadata": {
        "colab": {
          "base_uri": "https://localhost:8080/",
          "height": 36
        },
        "id": "5DtyfrmgQkaL",
        "outputId": "a306cb42-52dc-4038-a6ed-a8944ac1e087"
      },
      "source": [
        "name.capitalize()"
      ],
      "id": "5DtyfrmgQkaL",
      "execution_count": null,
      "outputs": [
        {
          "output_type": "execute_result",
          "data": {
            "application/vnd.google.colaboratory.intrinsic+json": {
              "type": "string"
            },
            "text/plain": [
              "'Ronald osbeck'"
            ]
          },
          "metadata": {},
          "execution_count": 75
        }
      ]
    },
    {
      "cell_type": "code",
      "metadata": {
        "colab": {
          "base_uri": "https://localhost:8080/",
          "height": 36
        },
        "id": "2q1wOOAwQlgN",
        "outputId": "955294c8-cd23-433c-8579-1a574d185304"
      },
      "source": [
        "name.upper()"
      ],
      "id": "2q1wOOAwQlgN",
      "execution_count": null,
      "outputs": [
        {
          "output_type": "execute_result",
          "data": {
            "application/vnd.google.colaboratory.intrinsic+json": {
              "type": "string"
            },
            "text/plain": [
              "'RONALD OSBECK'"
            ]
          },
          "metadata": {},
          "execution_count": 76
        }
      ]
    },
    {
      "cell_type": "code",
      "metadata": {
        "colab": {
          "base_uri": "https://localhost:8080/",
          "height": 36
        },
        "id": "mUC7v2zPQrEE",
        "outputId": "2cf6006a-7d62-4883-d342-03e8697c0cbf"
      },
      "source": [
        "name.title()"
      ],
      "id": "mUC7v2zPQrEE",
      "execution_count": null,
      "outputs": [
        {
          "output_type": "execute_result",
          "data": {
            "application/vnd.google.colaboratory.intrinsic+json": {
              "type": "string"
            },
            "text/plain": [
              "'Ronald Osbeck'"
            ]
          },
          "metadata": {},
          "execution_count": 77
        }
      ]
    },
    {
      "cell_type": "code",
      "metadata": {
        "colab": {
          "base_uri": "https://localhost:8080/",
          "height": 36
        },
        "id": "XGyUf5XpQuuU",
        "outputId": "26c2d154-0dbc-41e1-8db1-2cc82cb50e4f"
      },
      "source": [
        "name.swapcase()"
      ],
      "id": "XGyUf5XpQuuU",
      "execution_count": null,
      "outputs": [
        {
          "output_type": "execute_result",
          "data": {
            "application/vnd.google.colaboratory.intrinsic+json": {
              "type": "string"
            },
            "text/plain": [
              "'RONALD OSBECK'"
            ]
          },
          "metadata": {},
          "execution_count": 78
        }
      ]
    },
    {
      "cell_type": "code",
      "metadata": {
        "colab": {
          "base_uri": "https://localhost:8080/",
          "height": 36
        },
        "id": "S0BvzNsEQx4B",
        "outputId": "462228fd-7e9d-4223-bcab-21e5e73a4a48"
      },
      "source": [
        "name.lower()"
      ],
      "id": "S0BvzNsEQx4B",
      "execution_count": null,
      "outputs": [
        {
          "output_type": "execute_result",
          "data": {
            "application/vnd.google.colaboratory.intrinsic+json": {
              "type": "string"
            },
            "text/plain": [
              "'ronald osbeck'"
            ]
          },
          "metadata": {},
          "execution_count": 79
        }
      ]
    },
    {
      "cell_type": "markdown",
      "metadata": {
        "id": "v5-1jaOoREvg"
      },
      "source": [
        "Python also has methods to understand a string's content:"
      ],
      "id": "v5-1jaOoREvg"
    },
    {
      "cell_type": "code",
      "metadata": {
        "colab": {
          "base_uri": "https://localhost:8080/"
        },
        "id": "wsMjqfA6Q0LK",
        "outputId": "eb76759d-116c-4f51-cac7-845adbc8c7f1"
      },
      "source": [
        "\"Mina\".startswith('M')"
      ],
      "id": "wsMjqfA6Q0LK",
      "execution_count": null,
      "outputs": [
        {
          "output_type": "execute_result",
          "data": {
            "text/plain": [
              "True"
            ]
          },
          "metadata": {},
          "execution_count": 80
        }
      ]
    },
    {
      "cell_type": "code",
      "metadata": {
        "colab": {
          "base_uri": "https://localhost:8080/"
        },
        "id": "cmWyy3w3RQR9",
        "outputId": "283f7271-552d-49a9-bad9-1707fb1b7962"
      },
      "source": [
        "\"Mina\".startswith('m')"
      ],
      "id": "cmWyy3w3RQR9",
      "execution_count": null,
      "outputs": [
        {
          "output_type": "execute_result",
          "data": {
            "text/plain": [
              "False"
            ]
          },
          "metadata": {},
          "execution_count": 81
        }
      ]
    },
    {
      "cell_type": "code",
      "metadata": {
        "colab": {
          "base_uri": "https://localhost:8080/"
        },
        "id": "8tpjvkmORWyY",
        "outputId": "44240435-8c3a-4314-96b5-b7c15f0e2cba"
      },
      "source": [
        "\"Mina\".startswith('Jean')"
      ],
      "id": "8tpjvkmORWyY",
      "execution_count": null,
      "outputs": [
        {
          "output_type": "execute_result",
          "data": {
            "text/plain": [
              "False"
            ]
          },
          "metadata": {},
          "execution_count": 82
        }
      ]
    },
    {
      "cell_type": "code",
      "metadata": {
        "colab": {
          "base_uri": "https://localhost:8080/"
        },
        "id": "dL4b0ue9Rag9",
        "outputId": "1612858e-f4cc-40af-c9cf-b220d1b5ce7f"
      },
      "source": [
        "\"Mina\".endswith('a')"
      ],
      "id": "dL4b0ue9Rag9",
      "execution_count": null,
      "outputs": [
        {
          "output_type": "execute_result",
          "data": {
            "text/plain": [
              "True"
            ]
          },
          "metadata": {},
          "execution_count": 83
        }
      ]
    },
    {
      "cell_type": "code",
      "metadata": {
        "colab": {
          "base_uri": "https://localhost:8080/"
        },
        "id": "zFjJs0CFRelO",
        "outputId": "61fbc995-581f-408d-a9bd-5d40d1b6b8c6"
      },
      "source": [
        "\"abc123\".isalnum()\n"
      ],
      "id": "zFjJs0CFRelO",
      "execution_count": null,
      "outputs": [
        {
          "output_type": "execute_result",
          "data": {
            "text/plain": [
              "True"
            ]
          },
          "metadata": {},
          "execution_count": 84
        }
      ]
    },
    {
      "cell_type": "code",
      "metadata": {
        "colab": {
          "base_uri": "https://localhost:8080/"
        },
        "id": "LPSr_mRxRrvV",
        "outputId": "48825b65-d3ad-4621-b199-6f7b64ee7383"
      },
      "source": [
        "\"ABC123\".isalpha()"
      ],
      "id": "LPSr_mRxRrvV",
      "execution_count": null,
      "outputs": [
        {
          "output_type": "execute_result",
          "data": {
            "text/plain": [
              "False"
            ]
          },
          "metadata": {},
          "execution_count": 85
        }
      ]
    },
    {
      "cell_type": "code",
      "metadata": {
        "colab": {
          "base_uri": "https://localhost:8080/"
        },
        "id": "JP-AK5E1RygO",
        "outputId": "ef78d670-b391-4d33-ad7a-ab584c20a347"
      },
      "source": [
        "\"abc\".isalnum()"
      ],
      "id": "JP-AK5E1RygO",
      "execution_count": null,
      "outputs": [
        {
          "output_type": "execute_result",
          "data": {
            "text/plain": [
              "True"
            ]
          },
          "metadata": {},
          "execution_count": 86
        }
      ]
    },
    {
      "cell_type": "code",
      "metadata": {
        "colab": {
          "base_uri": "https://localhost:8080/"
        },
        "id": "pccM7tFfR3gk",
        "outputId": "f7e0e46d-faff-4dd1-fb08-9bfd20bf6183"
      },
      "source": [
        "\"1234\".isnumeric()"
      ],
      "id": "pccM7tFfR3gk",
      "execution_count": null,
      "outputs": [
        {
          "output_type": "execute_result",
          "data": {
            "text/plain": [
              "True"
            ]
          },
          "metadata": {},
          "execution_count": 87
        }
      ]
    },
    {
      "cell_type": "code",
      "metadata": {
        "colab": {
          "base_uri": "https://localhost:8080/"
        },
        "id": "IFvQYi_TR96H",
        "outputId": "b32f451f-950a-4aad-ec4d-e996c7c511fc"
      },
      "source": [
        "\"Mina\".istitle()"
      ],
      "id": "IFvQYi_TR96H",
      "execution_count": null,
      "outputs": [
        {
          "output_type": "execute_result",
          "data": {
            "text/plain": [
              "True"
            ]
          },
          "metadata": {},
          "execution_count": 89
        }
      ]
    },
    {
      "cell_type": "code",
      "metadata": {
        "colab": {
          "base_uri": "https://localhost:8080/"
        },
        "id": "7ap3XmZ7SDrU",
        "outputId": "fd7ddd6c-8666-43f1-9e3c-c0bb4df37bd3"
      },
      "source": [
        "\"Mina\".islower()"
      ],
      "id": "7ap3XmZ7SDrU",
      "execution_count": null,
      "outputs": [
        {
          "output_type": "execute_result",
          "data": {
            "text/plain": [
              "False"
            ]
          },
          "metadata": {},
          "execution_count": 91
        }
      ]
    },
    {
      "cell_type": "code",
      "metadata": {
        "colab": {
          "base_uri": "https://localhost:8080/"
        },
        "id": "-MOsiTCSSBNK",
        "outputId": "e1f0f207-3529-4bbd-8de9-571db21a452e"
      },
      "source": [
        "\"MINA\".isupper()"
      ],
      "id": "-MOsiTCSSBNK",
      "execution_count": null,
      "outputs": [
        {
          "output_type": "execute_result",
          "data": {
            "text/plain": [
              "True"
            ]
          },
          "metadata": {},
          "execution_count": 92
        }
      ]
    },
    {
      "cell_type": "markdown",
      "metadata": {
        "id": "AFnhZz-HSWrR"
      },
      "source": [
        "## <font color='green'>string( ) Formatting</font>"
      ],
      "id": "AFnhZz-HSWrR"
    },
    {
      "cell_type": "markdown",
      "metadata": {
        "id": "Ee9MqbgBSoPL"
      },
      "source": [
        "You can insert content into a string and control its format at runtime. The older form of string formatting in Pyyhon comes from the\n",
        "C Language <font color='red'>printf</font> function. We can use the modulus operation, <font color='cyan'> % </font> , to insert formatted values into a string. This applies to the form <font color='cyan'>string % values</font>, where values can ne a single nontuple or a tuple of multiple values. The string must have a convertion value for each value. The conversion specifier, at a minimum, starts with a modulus operator, <font color='cyan'> % </font>, and is followed by a character representing the type of value inserted:"
      ],
      "id": "Ee9MqbgBSoPL"
    },
    {
      "cell_type": "code",
      "metadata": {
        "colab": {
          "base_uri": "https://localhost:8080/",
          "height": 36
        },
        "id": "yYu-ebOkSQS1",
        "outputId": "2dec732c-1fbc-4c0f-9ece-beea658e62f2"
      },
      "source": [
        "\"%s + %s = %s\" % (1, 2, \"Three\")"
      ],
      "id": "yYu-ebOkSQS1",
      "execution_count": null,
      "outputs": [
        {
          "output_type": "execute_result",
          "data": {
            "application/vnd.google.colaboratory.intrinsic+json": {
              "type": "string"
            },
            "text/plain": [
              "'1 + 2 = Three'"
            ]
          },
          "metadata": {},
          "execution_count": 93
        }
      ]
    },
    {
      "cell_type": "markdown",
      "metadata": {
        "id": "xdQ01L1boUp4"
      },
      "source": [
        "Additional format arguments include the conversion specifier.For example, you can control the number of places a float,<font color='cyan'>%f</font>, prints:"
      ],
      "id": "xdQ01L1boUp4"
    },
    {
      "cell_type": "code",
      "metadata": {
        "colab": {
          "base_uri": "https://localhost:8080/",
          "height": 36
        },
        "id": "Pupgg9efoQ2Y",
        "outputId": "02031582-676d-4c3d-efa7-fa38988117ae"
      },
      "source": [
        "\"%.3f\" % 1.234567"
      ],
      "id": "Pupgg9efoQ2Y",
      "execution_count": null,
      "outputs": [
        {
          "output_type": "execute_result",
          "data": {
            "application/vnd.google.colaboratory.intrinsic+json": {
              "type": "string"
            },
            "text/plain": [
              "'1.235'"
            ]
          },
          "metadata": {},
          "execution_count": 94
        }
      ]
    },
    {
      "cell_type": "markdown",
      "metadata": {
        "id": "IDxE5Rjmpb0k"
      },
      "source": [
        "This was the dominant string formatting for years, and will find it in old code. It allows you to share between languages but also has some flaws. \n",
        "\n",
        "Due to the use of a sequence to hold the arguments, errors with displaying <font color='cyan'>tuple[ ]</font> and <font color='cyan'>dict{ }</font> are common.\n",
        "\n",
        "We suggest using a new way of formating introduced in Python 3, using the string method <font color='cyan'>format{ }</font>. It has also been backported to Python 2. it uses curly brackets in the string to indicate replacement fields rather than % moduli. The insert values become arguments to the string <font color='cyan'>format{ }</font> method. The order of the arguments determines their placement order in the target string:"
      ],
      "id": "IDxE5Rjmpb0k"
    },
    {
      "cell_type": "code",
      "metadata": {
        "colab": {
          "base_uri": "https://localhost:8080/",
          "height": 36
        },
        "id": "clrMX8LwpamK",
        "outputId": "a6094228-e6c1-4f38-e873-35789301c6dd"
      },
      "source": [
        "'{} comes before {}'.format('first', 'second')"
      ],
      "id": "clrMX8LwpamK",
      "execution_count": null,
      "outputs": [
        {
          "output_type": "execute_result",
          "data": {
            "application/vnd.google.colaboratory.intrinsic+json": {
              "type": "string"
            },
            "text/plain": [
              "'first comes before second'"
            ]
          },
          "metadata": {},
          "execution_count": 95
        }
      ]
    },
    {
      "cell_type": "markdown",
      "metadata": {
        "id": "E5kYuVenr9bB"
      },
      "source": [
        "We can specify index numbers in the brackets to insert values in an order difftent than that in the argument list. You can also repeat a value by specifying the same index number in multiple replacement fields:"
      ],
      "id": "E5kYuVenr9bB"
    },
    {
      "cell_type": "code",
      "metadata": {
        "colab": {
          "base_uri": "https://localhost:8080/",
          "height": 36
        },
        "id": "FhhabIkJr5Ck",
        "outputId": "834b917c-9ca5-443c-bb83-f111156c2ecf"
      },
      "source": [
        "'{1} comes after {0}, but {1} comes before {2}'.format('first','second' ,'third')"
      ],
      "id": "FhhabIkJr5Ck",
      "execution_count": null,
      "outputs": [
        {
          "output_type": "execute_result",
          "data": {
            "application/vnd.google.colaboratory.intrinsic+json": {
              "type": "string"
            },
            "text/plain": [
              "'second comes after first, but second comes before third'"
            ]
          },
          "metadata": {},
          "execution_count": 96
        }
      ]
    },
    {
      "cell_type": "markdown",
      "metadata": {
        "id": "s4Uq0KA3ss0l"
      },
      "source": [
        "An even more powerful feature is that the insert values can be specified by name:"
      ],
      "id": "s4Uq0KA3ss0l"
    },
    {
      "cell_type": "code",
      "metadata": {
        "colab": {
          "base_uri": "https://localhost:8080/",
          "height": 36
        },
        "id": "iO-KYyjMsp0a",
        "outputId": "0a49a54f-c907-436a-d96b-7ddae0c219aa"
      },
      "source": [
        "'''{country} is an island.\n",
        "{country} is off the coast of\n",
        "{continent} in the {ocean}.'''.format(ocean='North Sea', continent='Europe', country='Ireland')"
      ],
      "id": "iO-KYyjMsp0a",
      "execution_count": null,
      "outputs": [
        {
          "output_type": "execute_result",
          "data": {
            "application/vnd.google.colaboratory.intrinsic+json": {
              "type": "string"
            },
            "text/plain": [
              "'Ireland is an island.\\nIreland is off the coast of\\nEurope in the North Sea.'"
            ]
          },
          "metadata": {},
          "execution_count": 99
        }
      ]
    },
    {
      "cell_type": "markdown",
      "metadata": {
        "id": "TRsMCX1QtmGh"
      },
      "source": [
        "Here, a <font color='cyan'>dict( )</font> supplies key values for name-based replacement fields:"
      ],
      "id": "TRsMCX1QtmGh"
    },
    {
      "cell_type": "code",
      "metadata": {
        "colab": {
          "base_uri": "https://localhost:8080/",
          "height": 36
        },
        "id": "KjN0iRc6tZ2B",
        "outputId": "2030e029-2020-40d1-b354-b581da57a5b1"
      },
      "source": [
        "values = {'first': 'Bill', 'last': 'Bailey'}\n",
        "\"Won't you come home {first} {last}?\".format(**values)"
      ],
      "id": "KjN0iRc6tZ2B",
      "execution_count": null,
      "outputs": [
        {
          "output_type": "execute_result",
          "data": {
            "application/vnd.google.colaboratory.intrinsic+json": {
              "type": "string"
            },
            "text/plain": [
              "\"Won't you come home Bill Bailey?\""
            ]
          },
          "metadata": {},
          "execution_count": 100
        }
      ]
    },
    {
      "cell_type": "markdown",
      "metadata": {
        "id": "wD4MIc-Sxk9o"
      },
      "source": [
        "We can add left and right padding using <font color='cyan'>></font> and <font color='cyan'><</font>. In the second example, we specify a character."
      ],
      "id": "wD4MIc-Sxk9o"
    },
    {
      "cell_type": "code",
      "metadata": {
        "id": "ju7pf1VsxiDI",
        "colab": {
          "base_uri": "https://localhost:8080/",
          "height": 36
        },
        "outputId": "c4a79ed7-c7bd-4d04-f880-87c4f6dd9d7c"
      },
      "source": [
        "text = \"|{0:>22}||{0:<22}|\"\n",
        "text.format('0', '0')"
      ],
      "id": "ju7pf1VsxiDI",
      "execution_count": 101,
      "outputs": [
        {
          "output_type": "execute_result",
          "data": {
            "application/vnd.google.colaboratory.intrinsic+json": {
              "type": "string"
            },
            "text/plain": [
              "'|                     0||0                     |'"
            ]
          },
          "metadata": {},
          "execution_count": 101
        }
      ]
    },
    {
      "cell_type": "code",
      "metadata": {
        "colab": {
          "base_uri": "https://localhost:8080/",
          "height": 36
        },
        "id": "nzf0Hf1Q0zlS",
        "outputId": "8876994a-9fb9-42cf-da9a-7a4d82497505"
      },
      "source": [
        "text = \"|{0:<>22}||{0:><22}|\"\n",
        "text.format('0', '0')"
      ],
      "id": "nzf0Hf1Q0zlS",
      "execution_count": 102,
      "outputs": [
        {
          "output_type": "execute_result",
          "data": {
            "application/vnd.google.colaboratory.intrinsic+json": {
              "type": "string"
            },
            "text/plain": [
              "'|<<<<<<<<<<<<<<<<<<<<<0||0>>>>>>>>>>>>>>>>>>>>>|'"
            ]
          },
          "metadata": {},
          "execution_count": 102
        }
      ]
    },
    {
      "cell_type": "markdown",
      "metadata": {
        "id": "6O2JUhKS463g"
      },
      "source": [
        "## <font color='cyan'>f-strings</font>"
      ],
      "id": "6O2JUhKS463g"
    },
    {
      "cell_type": "markdown",
      "metadata": {
        "id": "CRzYbxYt295e"
      },
      "source": [
        "Format specification are done using the format specification mini-language ([oriely](https://oreil.ly/ZOFjg) | \n",
        "[wiki](https://www.wikipython.com/other-concepts/anatomy-of-format-mini-language/)|\n",
        "[python dot org](https://docs.python.org/3/library/string.html#formatspec) we \n",
        "also use another language called  <font color='cyan'>f-strings</font>."
      ],
      "id": "CRzYbxYt295e"
    },
    {
      "cell_type": "markdown",
      "metadata": {
        "id": "ItteeFG23dYE"
      },
      "source": [
        "Python <font color='cyan'>f-strings{ }</font> use the same formatting language as *format{ }* method. <font color='cyan'>f-strings{ }</font> are prepended with either <font color='cyan'>f</font> or <font color='cyan'>F</font> before the first quotation mark.\n",
        "\n",
        " Like *format{ }*, <font color='cyan'>f-strings{ }</font>  also use curly brackets. Note that the content of the replacement field is an expression. This approach means it can refer to variables defined in the current scope or involve calculations:"
      ],
      "id": "ItteeFG23dYE"
    },
    {
      "cell_type": "code",
      "metadata": {
        "id": "S1IUlDF_085H"
      },
      "source": [
        "a = 1"
      ],
      "id": "S1IUlDF_085H",
      "execution_count": 104,
      "outputs": []
    },
    {
      "cell_type": "code",
      "metadata": {
        "id": "K06mnmCO5Vxt"
      },
      "source": [
        "b = 2"
      ],
      "id": "K06mnmCO5Vxt",
      "execution_count": 105,
      "outputs": []
    },
    {
      "cell_type": "code",
      "metadata": {
        "colab": {
          "base_uri": "https://localhost:8080/",
          "height": 36
        },
        "id": "Pj-jfagW5X7S",
        "outputId": "6329ac83-91a3-41cd-9059-2bf190bebe55"
      },
      "source": [
        "f\"a is {a}, b is {b}. Adding them results in {a + b}\""
      ],
      "id": "Pj-jfagW5X7S",
      "execution_count": 106,
      "outputs": [
        {
          "output_type": "execute_result",
          "data": {
            "application/vnd.google.colaboratory.intrinsic+json": {
              "type": "string"
            },
            "text/plain": [
              "'a is 1, b is 2. Adding them results in 3'"
            ]
          },
          "metadata": {},
          "execution_count": 106
        }
      ]
    },
    {
      "cell_type": "markdown",
      "metadata": {
        "id": "lSbStPBE23BE"
      },
      "source": [
        "As in <font color='cyan'>format { }</font> strings, format specifications in <font color='cyan'>f-strings</font> happen within \n",
        "the curly brackets after the value expression and start with a: :\n"
      ],
      "id": "lSbStPBE23BE"
    },
    {
      "cell_type": "code",
      "metadata": {
        "id": "NGfhya8E6D2u"
      },
      "source": [
        "count = 43"
      ],
      "id": "NGfhya8E6D2u",
      "execution_count": 107,
      "outputs": []
    },
    {
      "cell_type": "code",
      "metadata": {
        "colab": {
          "base_uri": "https://localhost:8080/",
          "height": 36
        },
        "id": "n-9KwivF6HR9",
        "outputId": "f6490c04-919b-498d-8829-8c872052c71c"
      },
      "source": [
        "f\"|{count:5d}\""
      ],
      "id": "n-9KwivF6HR9",
      "execution_count": 108,
      "outputs": [
        {
          "output_type": "execute_result",
          "data": {
            "application/vnd.google.colaboratory.intrinsic+json": {
              "type": "string"
            },
            "text/plain": [
              "'|   43'"
            ]
          },
          "metadata": {},
          "execution_count": 108
        }
      ]
    },
    {
      "cell_type": "markdown",
      "metadata": {
        "id": "gEdbhOUX6YUz"
      },
      "source": [
        "The value expression can contain nested expressions, referncing variables, and expressons in the construction of the parent expression:"
      ],
      "id": "gEdbhOUX6YUz"
    },
    {
      "cell_type": "code",
      "metadata": {
        "id": "6OYOLbTD6NTH"
      },
      "source": [
        "padding = 10"
      ],
      "id": "6OYOLbTD6NTH",
      "execution_count": 109,
      "outputs": []
    },
    {
      "cell_type": "code",
      "metadata": {
        "colab": {
          "base_uri": "https://localhost:8080/",
          "height": 36
        },
        "id": "x0KZKrRy6mY-",
        "outputId": "9453edc4-3a8e-48ff-bbe1-6383e7f85872"
      },
      "source": [
        "f\"|{count:{padding}d}\""
      ],
      "id": "x0KZKrRy6mY-",
      "execution_count": 110,
      "outputs": [
        {
          "output_type": "execute_result",
          "data": {
            "application/vnd.google.colaboratory.intrinsic+json": {
              "type": "string"
            },
            "text/plain": [
              "'|        43'"
            ]
          },
          "metadata": {},
          "execution_count": 110
        }
      ]
    },
    {
      "cell_type": "markdown",
      "metadata": {
        "id": "GV8Sqy0h6yVj"
      },
      "source": [
        "### <font color='cyan'> We highlt recomend using f-strings for the majority of your string formatting. They combine the power of the specification mini-language with a simple and intuitive syntax.</font>"
      ],
      "id": "GV8Sqy0h6yVj"
    },
    {
      "cell_type": "markdown",
      "metadata": {
        "id": "Y8emdHcG7Vsv"
      },
      "source": [
        "## <font color='green'>Template strings</font>"
      ],
      "id": "Y8emdHcG7Vsv"
    },
    {
      "cell_type": "markdown",
      "metadata": {
        "id": "1vChfFgJ7fUM"
      },
      "source": [
        "Designed to offer a straightforward string substitution mechanism. These built-in methods worj for tasks such as internationalization, where simple word sustitutions are necessary. They use <font color='cyan'> dollar sign</font> as a substitution character. with optional curly braces surrounding them. The character directly follows the $ indentify the value to be inserted. When the <font color='cyan'>substitute( )</font> method of the string template executes, these names are used to assign values.\n"
      ],
      "id": "1vChfFgJ7fUM"
    },
    {
      "cell_type": "code",
      "metadata": {
        "id": "sBf9CBWH6uum"
      },
      "source": [
        ""
      ],
      "id": "sBf9CBWH6uum",
      "execution_count": null,
      "outputs": []
    },
    {
      "cell_type": "markdown",
      "metadata": {
        "id": "3RGRGjjS9Bex"
      },
      "source": [
        "Built-in types and functions are available whenever you run Python code, but to access the broader world of functionality available in the Python ecosystem, you need to use the <font color='cyan'>import</font> statement. This approach lets you add functionality from the Python Standard :ibrary or third-party services into your enviroment. You can selectively import parts of a packahe by using the <font color='cyan'>from</font> keyword:"
      ],
      "id": "3RGRGjjS9Bex"
    },
    {
      "cell_type": "code",
      "metadata": {
        "id": "LH6sdq-I91_6"
      },
      "source": [
        "from string import Template"
      ],
      "id": "LH6sdq-I91_6",
      "execution_count": 111,
      "outputs": []
    },
    {
      "cell_type": "code",
      "metadata": {
        "id": "yQhwIfax97K1"
      },
      "source": [
        "greeting = Template(\"$hello Mark Anthony\")"
      ],
      "id": "yQhwIfax97K1",
      "execution_count": 112,
      "outputs": []
    },
    {
      "cell_type": "code",
      "metadata": {
        "colab": {
          "base_uri": "https://localhost:8080/",
          "height": 36
        },
        "id": "7F0lLQgP-KiZ",
        "outputId": "e8add748-6dc4-45e0-a6ac-102df3e3c881"
      },
      "source": [
        "greeting.substitute(hello=\"Bonjour\")"
      ],
      "id": "7F0lLQgP-KiZ",
      "execution_count": 113,
      "outputs": [
        {
          "output_type": "execute_result",
          "data": {
            "application/vnd.google.colaboratory.intrinsic+json": {
              "type": "string"
            },
            "text/plain": [
              "'Bonjour Mark Anthony'"
            ]
          },
          "metadata": {},
          "execution_count": 113
        }
      ]
    },
    {
      "cell_type": "code",
      "metadata": {
        "colab": {
          "base_uri": "https://localhost:8080/",
          "height": 36
        },
        "id": "6WnlfVt--Qnc",
        "outputId": "25c9a281-d83c-499d-d360-6ca64cf1606f"
      },
      "source": [
        "greeting.substitute(hello=\"Zdravstvuyte\")"
      ],
      "id": "6WnlfVt--Qnc",
      "execution_count": 114,
      "outputs": [
        {
          "output_type": "execute_result",
          "data": {
            "application/vnd.google.colaboratory.intrinsic+json": {
              "type": "string"
            },
            "text/plain": [
              "'Zdravstvuyte Mark Anthony'"
            ]
          },
          "metadata": {},
          "execution_count": 114
        }
      ]
    },
    {
      "cell_type": "code",
      "metadata": {
        "colab": {
          "base_uri": "https://localhost:8080/",
          "height": 36
        },
        "id": "1crqhLSO-Z-L",
        "outputId": "95bf1509-e8fc-44f0-84a2-58aaabb4e3d7"
      },
      "source": [
        "greeting.substitute(hello=\"Guten tag\")"
      ],
      "id": "1crqhLSO-Z-L",
      "execution_count": 115,
      "outputs": [
        {
          "output_type": "execute_result",
          "data": {
            "application/vnd.google.colaboratory.intrinsic+json": {
              "type": "string"
            },
            "text/plain": [
              "'Guten tag Mark Anthony'"
            ]
          },
          "metadata": {},
          "execution_count": 115
        }
      ]
    },
    {
      "cell_type": "code",
      "metadata": {
        "id": "WYGfGF5l-h4Z"
      },
      "source": [
        ""
      ],
      "id": "WYGfGF5l-h4Z",
      "execution_count": null,
      "outputs": []
    }
  ]
}